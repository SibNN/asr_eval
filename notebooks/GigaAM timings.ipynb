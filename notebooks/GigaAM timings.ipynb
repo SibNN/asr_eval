{
 "cells": [
  {
   "cell_type": "code",
   "execution_count": null,
   "id": "c431fda1",
   "metadata": {},
   "outputs": [],
   "source": [
    "%cd .."
   ]
  },
  {
   "cell_type": "code",
   "execution_count": 1,
   "id": "15306636",
   "metadata": {},
   "outputs": [],
   "source": [
    "# type: ignore\n",
    "\n",
    "from __future__ import annotations\n",
    "\n",
    "import typing\n",
    "from typing import Literal, cast, TypeVar\n",
    "from pathlib import Path\n",
    "from datetime import timedelta\n",
    "from dataclasses import dataclass\n",
    "from itertools import groupby, pairwise\n",
    "from collections.abc import Iterable\n",
    "\n",
    "from datasets import load_dataset, Audio, load_from_disk # type: ignore\n",
    "import gigaam\n",
    "from gigaam.model import GigaAMASR\n",
    "import soundfile as sf\n",
    "from tqdm.auto import tqdm\n",
    "import srt\n",
    "import torch\n",
    "import numpy as np\n",
    "import numpy.typing as npt\n",
    "from torchaudio.transforms import Resample\n",
    "import matplotlib.pyplot as plt\n",
    "\n",
    "from asr_eval.align.data import Token, MultiVariant, Anything\n",
    "from asr_eval.models.gigaam import encode, decode, transcribe_with_gigaam_ctc, GigaAMEncodeError, FREQ\n",
    "from asr_eval.streaming.timings import get_word_timings_simple, fill_word_timings_inplace\n",
    "from asr_eval.utils import utterances_to_srt, groupby_into_spans\n",
    "from asr_eval.align.parsing import parse_multivariant_string, colorize_parsed_string\n",
    "from asr_eval.ctc.forced_alignment import forced_alignment\n",
    "from asr_eval.plots import draw_timed_transcription"
   ]
  },
  {
   "cell_type": "code",
   "execution_count": null,
   "id": "afde08bb",
   "metadata": {},
   "outputs": [],
   "source": [
    "model = typing.cast(GigaAMASR, gigaam.load_model('ctc', device='cuda'))"
   ]
  },
  {
   "cell_type": "code",
   "execution_count": null,
   "id": "a3e47ef9",
   "metadata": {},
   "outputs": [],
   "source": [
    "# # type: ignore\n",
    "\n",
    "# datasets = {\n",
    "#     'podlodka': (\n",
    "#         load_dataset('bond005/podlodka_speech')['test']\n",
    "#         .cast_column(\"audio\", Audio(sampling_rate=16_000))\n",
    "#         .take(20)\n",
    "#     ),\n",
    "#     'golos_farfield': (\n",
    "#         load_dataset('bond005/sberdevices_golos_100h_farfield')['test']\n",
    "#         .cast_column(\"audio\", Audio(sampling_rate=16_000))\n",
    "#         .take(20)\n",
    "#     ),\n",
    "# }\n",
    "\n",
    "# for dataset_name, dataset in datasets.items():\n",
    "#     dir = Path(f'srt/{dataset_name}')\n",
    "#     dir.mkdir(exist_ok=True, parents=True)\n",
    "#     for sample_idx, sample in tqdm(enumerate(dataset)):\n",
    "#         waveform = sample['audio']['array']\n",
    "#         text = sample['transcription']\n",
    "#         text = text.lower().replace('ё', 'е').replace('-', ' ')\n",
    "#         for char in ('.', ',', '!', '?', ';', ':', '\"', '(', ')'):\n",
    "#             text = text.replace(char, '')\n",
    "#         try:\n",
    "#             encode(model, text)\n",
    "#         except ValueError:\n",
    "#             print(f'Cannot encode: {text}')\n",
    "#             continue\n",
    "#         timings = get_word_timings(model, waveform, text)\n",
    "#         (dir / f'{sample_idx}.srt').write_text(utterances_to_srt(timings))\n",
    "#         sf.write(dir / f'{sample_idx}.wav', waveform, samplerate=16_000)\n",
    "#         break"
   ]
  },
  {
   "cell_type": "code",
   "execution_count": 3,
   "id": "6ddb03c7",
   "metadata": {},
   "outputs": [
    {
     "name": "stdout",
     "output_type": "stream",
     "text": [
      "\u001b[1m\u001b[103mУх\u001b[0m\u001b[1m \u001b[0m\u001b[1m\u001b[102mты\u001b[0m\u001b[1m, \u001b[0m\u001b[1m\u001b[106mи\u001b[0m\u001b[1m \u001b[0m\u001b[1m\u001b[103mснова\u001b[0m\u001b[1m \u001b[0m\u001b[1m\u001b[102mя\u001b[0m\u001b[1m, \u001b[0m\u001b[1m\u001b[106mАлександр\u001b[0m\u001b[1m \u001b[0m\u001b[1m\u001b[103mКриволат\u001b[0m\u001b[1m, \u001b[0m\u001b[1m\u001b[102mпеченеги\u001b[0m\u001b[1m. \u001b[0m\u001b[1m\u001b[106mРебята\u001b[0m\u001b[1m, \u001b[0m\u001b[1m\u001b[103mсегодня\u001b[0m\u001b[1m \u001b[0m\u001b[1m\u001b[4m{\u001b[0m\u001b[1m\u001b[4m\u001b[102m24\u001b[0m\u001b[1m\u001b[4m | \u001b[0m\u001b[1m\u001b[4m\u001b[106mдвадцать\u001b[0m\u001b[1m\u001b[4m \u001b[0m\u001b[1m\u001b[4m\u001b[103mчетвертое\u001b[0m\u001b[1m\u001b[4m | \u001b[0m\u001b[1m\u001b[4m\u001b[102mдвадцать\u001b[0m\u001b[1m\u001b[4m \u001b[0m\u001b[1m\u001b[4m\u001b[106mчетвёртое\u001b[0m\u001b[1m\u001b[4m}\u001b[0m\u001b[1m \u001b[0m\u001b[1m\u001b[103mмая\u001b[0m\u001b[1m \u001b[0m\u001b[1m\u001b[4m{\u001b[0m\u001b[1m\u001b[4m\u001b[102m2021\u001b[0m\u001b[1m\u001b[4m | \u001b[0m\u001b[1m\u001b[4m\u001b[106mдве\u001b[0m\u001b[1m\u001b[4m \u001b[0m\u001b[1m\u001b[4m\u001b[103mтысячи\u001b[0m\u001b[1m\u001b[4m \u001b[0m\u001b[1m\u001b[4m\u001b[102mдвадцать\u001b[0m\u001b[1m\u001b[4m \u001b[0m\u001b[1m\u001b[4m\u001b[106mпервого\u001b[0m\u001b[1m\u001b[4m}\u001b[0m\u001b[1m \u001b[0m\u001b[1m\u001b[103mгода\u001b[0m\u001b[1m.\u001b[0m\n"
     ]
    }
   ],
   "source": [
    "dataset = load_from_disk('tmp/multivariate/multivariant_v1_200')\n",
    "\n",
    "sample = dataset[64] # type: ignore\n",
    "\n",
    "waveform = Resample(22050, 16000, dtype=torch.float64)(\n",
    "    torch.tensor(np.array(sample['audio']['array'])) # type: ignore\n",
    ").numpy()\n",
    "\n",
    "blocks = [\n",
    "    x\n",
    "    for x in srt.parse(sample['trans']) # type: ignore\n",
    "    if x.end < timedelta(seconds=15)\n",
    "]\n",
    "\n",
    "finish_time = blocks[-1].end.total_seconds()\n",
    "waveform = waveform[:int(16000*finish_time)]\n",
    "\n",
    "text = ' '.join(x.content for x in blocks).replace('{?}', '<*>').replace('}.', '} .')\n",
    "\n",
    "tokens = parse_multivariant_string(text)\n",
    "print(colorize_parsed_string(text, tokens)[0])"
   ]
  },
  {
   "cell_type": "code",
   "execution_count": 5,
   "id": "c3bc08d6",
   "metadata": {},
   "outputs": [
    {
     "data": {
      "image/png": "[encoded data removed]",
      "text/plain": [
       "<Figure size 1000x300 with 1 Axes>"
      ]
     },
     "metadata": {},
     "output_type": "display_data"
    }
   ],
   "source": [
    "fill_word_timings_inplace(model, waveform, tokens)\n",
    "\n",
    "plt.figure(figsize=(10, 3)) # type: ignore\n",
    "plt.plot( # type: ignore\n",
    "    np.arange(len(waveform)) / 16_000,\n",
    "    2.5 * waveform / waveform.max(),\n",
    "    alpha=0.3,\n",
    "    zorder=-1,\n",
    ")\n",
    "draw_timed_transcription(tokens)\n",
    "\n",
    "plt.ylim(-3, 3) # type: ignore\n",
    "plt.show() # type: ignore"
   ]
  },
  {
   "cell_type": "code",
   "execution_count": null,
   "id": "7c8745ab",
   "metadata": {},
   "outputs": [],
   "source": []
  }
 ],
 "metadata": {
  "kernelspec": {
   "display_name": "venv",
   "language": "python",
   "name": "python3"
  },
  "language_info": {
   "codemirror_mode": {
    "name": "ipython",
    "version": 3
   },
   "file_extension": ".py",
   "mimetype": "text/x-python",
   "name": "python",
   "nbconvert_exporter": "python",
   "pygments_lexer": "ipython3",
   "version": "3.12.3"
  }
 },
 "nbformat": 4,
 "nbformat_minor": 5
}
