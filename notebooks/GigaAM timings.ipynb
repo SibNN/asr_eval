{
 "cells": [
  {
   "cell_type": "code",
   "execution_count": null,
   "id": "c431fda1",
   "metadata": {},
   "outputs": [],
   "source": [
    "%cd .."
   ]
  },
  {
   "cell_type": "code",
   "execution_count": 1,
   "id": "15306636",
   "metadata": {},
   "outputs": [],
   "source": [
    "import typing\n",
    "from pathlib import Path\n",
    "\n",
    "from datasets import load_dataset, Audio\n",
    "import gigaam\n",
    "from gigaam.model import GigaAMASR\n",
    "import soundfile as sf\n",
    "from tqdm.auto import tqdm\n",
    "\n",
    "from asr_eval.models.gigaam import encode\n",
    "from asr_eval.streaming.timings import get_word_timings\n",
    "from asr_eval.utils import utterances_to_srt"
   ]
  },
  {
   "cell_type": "code",
   "execution_count": 2,
   "id": "afde08bb",
   "metadata": {},
   "outputs": [],
   "source": [
    "model = typing.cast(GigaAMASR, gigaam.load_model('ctc', device='cuda'))"
   ]
  },
  {
   "cell_type": "code",
   "execution_count": null,
   "id": "a3e47ef9",
   "metadata": {},
   "outputs": [],
   "source": [
    "# type: ignore\n",
    "\n",
    "datasets = {\n",
    "    'podlodka': (\n",
    "        load_dataset('bond005/podlodka_speech')['test']\n",
    "        .cast_column(\"audio\", Audio(sampling_rate=16_000))\n",
    "        .take(20)\n",
    "    ),\n",
    "    'golos_farfield': (\n",
    "        load_dataset('bond005/sberdevices_golos_100h_farfield')['test']\n",
    "        .cast_column(\"audio\", Audio(sampling_rate=16_000))\n",
    "        .take(20)\n",
    "    ),\n",
    "}\n",
    "\n",
    "for dataset_name, dataset in datasets.items():\n",
    "    dir = Path(f'srt/{dataset_name}')\n",
    "    dir.mkdir(exist_ok=True, parents=True)\n",
    "    for sample_idx, sample in tqdm(enumerate(dataset)):\n",
    "        waveform = sample['audio']['array']\n",
    "        text = sample['transcription']\n",
    "        text = text.lower().replace('ё', 'е').replace('-', ' ')\n",
    "        for char in ('.', ',', '!', '?', ';', ':', '\"', '(', ')'):\n",
    "            text = text.replace(char, '')\n",
    "        try:\n",
    "            encode(model, text)\n",
    "        except ValueError:\n",
    "            print(f'Cannot encode: {text}')\n",
    "            continue\n",
    "        timings = get_word_timings(model, waveform, text)\n",
    "        (dir / f'{sample_idx}.srt').write_text(utterances_to_srt(timings))\n",
    "        sf.write(dir / f'{sample_idx}.wav', waveform, samplerate=16_000)\n",
    "        break"
   ]
  },
  {
   "cell_type": "code",
   "execution_count": 3,
   "id": "cf818331",
   "metadata": {},
   "outputs": [
    {
     "data": {
      "image/png": "[encoded data removed]",
      "text/plain": [
       "<Figure size 1000x300 with 1 Axes>"
      ]
     },
     "metadata": {},
     "output_type": "display_data"
    }
   ],
   "source": [
    "import matplotlib.pyplot as plt\n",
    "\n",
    "from asr_eval.align.data import Anything, Token, MultiVariant\n",
    "\n",
    "\n",
    "transcription: list[Token | MultiVariant] = [\n",
    "    MultiVariant([\n",
    "        [Token('ну', start_time=0.2, end_time=0.4)],\n",
    "        [],\n",
    "    ]),\n",
    "    Token('в', start_time=0.45, end_time=0.8),\n",
    "    MultiVariant([\n",
    "        [\n",
    "            Token('девятьсот', start_time=1.0, end_time=1.3),\n",
    "            Token('пятьдесят', start_time=1.3, end_time=1.5),\n",
    "            Token('четвертом', start_time=1.6, end_time=2.0),\n",
    "        ],\n",
    "        [Token('954', start_time=1.0, end_time=2.0)],\n",
    "    ]),\n",
    "    Token(Anything(), start_time=2.2, end_time=2.5),\n",
    "    Token('году', start_time=2.6, end_time=2.8),\n",
    "]\n",
    "\n",
    "from asr_eval.plots import draw_transcription\n",
    "\n",
    "plt.figure(figsize=(10, 3)) # type: ignore\n",
    "draw_transcription(transcription, graybox_y=(0, 5))\n",
    "plt.show() # type: ignore"
   ]
  },
  {
   "cell_type": "code",
   "execution_count": null,
   "id": "6daa57b6",
   "metadata": {},
   "outputs": [],
   "source": []
  }
 ],
 "metadata": {
  "kernelspec": {
   "display_name": "venv",
   "language": "python",
   "name": "python3"
  },
  "language_info": {
   "codemirror_mode": {
    "name": "ipython",
    "version": 3
   },
   "file_extension": ".py",
   "mimetype": "text/x-python",
   "name": "python",
   "nbconvert_exporter": "python",
   "pygments_lexer": "ipython3",
   "version": "3.12.3"
  }
 },
 "nbformat": 4,
 "nbformat_minor": 5
}
