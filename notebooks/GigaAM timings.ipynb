{
 "cells": [
  {
   "cell_type": "code",
   "execution_count": null,
   "id": "c431fda1",
   "metadata": {},
   "outputs": [],
   "source": [
    "%cd .."
   ]
  },
  {
   "cell_type": "code",
   "execution_count": null,
   "id": "15306636",
   "metadata": {},
   "outputs": [],
   "source": [
    "import typing\n",
    "from pathlib import Path\n",
    "\n",
    "from datasets import load_dataset, Audio\n",
    "import gigaam\n",
    "from gigaam.model import GigaAMASR\n",
    "import soundfile as sf\n",
    "from tqdm.auto import tqdm\n",
    "\n",
    "from asr_eval.models.gigaam import encode\n",
    "from asr_eval.streaming.evaluation import get_word_timings\n",
    "from asr_eval.srt_utils import utterances_to_srt"
   ]
  },
  {
   "cell_type": "code",
   "execution_count": null,
   "id": "afde08bb",
   "metadata": {},
   "outputs": [],
   "source": [
    "model = typing.cast(GigaAMASR, gigaam.load_model('ctc', device='cuda'))"
   ]
  },
  {
   "cell_type": "code",
   "execution_count": null,
   "id": "a3e47ef9",
   "metadata": {},
   "outputs": [],
   "source": [
    "# type: ignore\n",
    "\n",
    "datasets = {\n",
    "    'podlodka': (\n",
    "        load_dataset('bond005/podlodka_speech')['test']\n",
    "        .cast_column(\"audio\", Audio(sampling_rate=16_000))\n",
    "        .take(20)\n",
    "    ),\n",
    "    'golos_farfield': (\n",
    "        load_dataset('bond005/sberdevices_golos_100h_farfield')['test']\n",
    "        .cast_column(\"audio\", Audio(sampling_rate=16_000))\n",
    "        .take(20)\n",
    "    ),\n",
    "}\n",
    "\n",
    "for dataset_name, dataset in datasets.items():\n",
    "    dir = Path(f'srt/{dataset_name}')\n",
    "    dir.mkdir(exist_ok=True, parents=True)\n",
    "    for sample_idx, sample in tqdm(enumerate(dataset)):\n",
    "        waveform = sample['audio']['array']\n",
    "        text = sample['transcription']\n",
    "        text = text.lower().replace('ё', 'е').replace('-', ' ')\n",
    "        for char in ('.', ',', '!', '?', ';', ':', '\"', '(', ')'):\n",
    "            text = text.replace(char, '')\n",
    "        try:\n",
    "            encode(model, text)\n",
    "        except ValueError:\n",
    "            print(f'Cannot encode: {text}')\n",
    "            continue\n",
    "        timings = get_word_timings(model, waveform, text)\n",
    "        (dir / f'{sample_idx}.srt').write_text(utterances_to_srt(timings))\n",
    "        sf.write(dir / f'{sample_idx}.wav', waveform, samplerate=16_000)"
   ]
  },
  {
   "cell_type": "code",
   "execution_count": null,
   "id": "365e49a7",
   "metadata": {},
   "outputs": [],
   "source": []
  }
 ],
 "metadata": {
  "kernelspec": {
   "display_name": "venv",
   "language": "python",
   "name": "python3"
  },
  "language_info": {
   "codemirror_mode": {
    "name": "ipython",
    "version": 3
   },
   "file_extension": ".py",
   "mimetype": "text/x-python",
   "name": "python",
   "nbconvert_exporter": "python",
   "pygments_lexer": "ipython3",
   "version": "3.12.3"
  }
 },
 "nbformat": 4,
 "nbformat_minor": 5
}
