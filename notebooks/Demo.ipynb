{
 "cells": [
  {
   "cell_type": "code",
   "execution_count": null,
   "metadata": {},
   "outputs": [],
   "source": [
    "# type: ignore\n",
    "\n",
    "import typing\n",
    "from typing import Any\n",
    "from pathlib import Path\n",
    "\n",
    "import librosa\n",
    "from datasets import load_dataset, Audio\n",
    "import gigaam\n",
    "from gigaam.model import GigaAMASR\n",
    "import numpy as np\n",
    "import numpy.typing as npt\n",
    "import matplotlib.pyplot as plt\n",
    "\n",
    "from asr_eval.datasets.recording import Recording\n",
    "from asr_eval.align.data import MatchesList\n",
    "from asr_eval.align.timings import fill_word_timings_inplace, CannotFillTimings\n",
    "from asr_eval.align.parsing import parse_multivariant_string, colorize_parsed_string\n",
    "from asr_eval.align.plots import draw_timed_transcription\n",
    "from asr_eval.streaming.models.vosk import VoskStreaming\n",
    "from asr_eval.streaming.evaluation import default_evaluation_pipeline\n",
    "from asr_eval.streaming.model import TranscriptionChunk\n",
    "from asr_eval.streaming.evaluation import RecordingStreamingEvaluation\n",
    "from asr_eval.align.recursive import align\n",
    "from asr_eval.streaming.plots import (\n",
    "    partial_alignments_plot,\n",
    "    visualize_history,\n",
    "    streaming_error_vs_latency_histogram,\n",
    "    latency_plot,\n",
    "    show_last_alignments,\n",
    ")"
   ]
  },
  {
   "cell_type": "code",
   "execution_count": null,
   "metadata": {},
   "outputs": [],
   "source": [
    "text = (\n",
    "    '(7-8 мая) в Пуэрто-Рико прошёл {шестнадцатый|16-й|16}'\n",
    "    ' этап \"Формулы-1\" с фондом 100,000$!'\n",
    ")\n",
    "\n",
    "for method in 'space', 'razdel', 'wordpunct_tokenize', 'asr_eval':\n",
    "    tokens = parse_multivariant_string(text, method=method)\n",
    "    colored_str, colors = colorize_parsed_string(text, tokens)\n",
    "    print(f'{method: <20}', colored_str)"
   ]
  },
  {
   "cell_type": "code",
   "execution_count": null,
   "metadata": {},
   "outputs": [],
   "source": [
    "# type: ignore\n",
    "\n",
    "waveform: npt.NDArray[np.floating[Any]] = (\n",
    "    librosa.load('tests/testdata/formula1.mp3', sr=16000)[0])\n",
    "waveform += waveform[::-1] / 4  # add some speech-like noise\n",
    "\n",
    "text = Path('tests/testdata/formula1.txt').read_text()\n",
    "tokens = parse_multivariant_string(text)\n",
    "\n",
    "model = typing.cast(GigaAMASR, gigaam.load_model('ctc', device='cuda'))\n",
    "fill_word_timings_inplace(model, waveform, tokens, verbose=True)"
   ]
  },
  {
   "cell_type": "code",
   "execution_count": null,
   "metadata": {},
   "outputs": [],
   "source": [
    " # type: ignore\n",
    "\n",
    "plt.figure(figsize=(15, 4))\n",
    "plt.plot(np.arange(len(waveform)) / 16000,\n",
    "    3 * waveform / waveform.max(), alpha=0.3, zorder=-1)\n",
    "draw_timed_transcription(tokens, y_delta=-3)\n",
    "plt.ylim(-3.5, 3.5)\n",
    "plt.show()\n",
    "\n",
    "print(colorize_parsed_string(text, tokens)[0])"
   ]
  },
  {
   "cell_type": "code",
   "execution_count": null,
   "metadata": {},
   "outputs": [],
   "source": [
    "asr = VoskStreaming(model_name='vosk-model-ru-0.42', chunk_length_sec=0.5)\n",
    "asr.start_thread()\n",
    "\n",
    "recording = Recording(\n",
    "    transcription=text,\n",
    "    transcription_words=tokens,\n",
    "    waveform=waveform,\n",
    ")\n",
    "eval = default_evaluation_pipeline(recording, asr)\n",
    "\n",
    "asr.stop_thread()"
   ]
  },
  {
   "cell_type": "code",
   "execution_count": null,
   "metadata": {},
   "outputs": [],
   "source": [
    "print(TranscriptionChunk.join(eval.output_chunks))\n",
    "print(eval.partial_alignments[-1].pred)"
   ]
  },
  {
   "cell_type": "code",
   "execution_count": null,
   "metadata": {},
   "outputs": [],
   "source": [
    "eval.partial_alignments[-1].alignment.matches"
   ]
  },
  {
   "cell_type": "code",
   "execution_count": null,
   "metadata": {},
   "outputs": [],
   "source": [
    "eval.partial_alignments[-1].get_error_positions()"
   ]
  },
  {
   "cell_type": "code",
   "execution_count": null,
   "metadata": {},
   "outputs": [],
   "source": [
    "# type: ignore\n",
    "\n",
    "plt.figure(figsize=(15, 6))\n",
    "partial_alignments_plot(eval)\n",
    "plt.show()"
   ]
  },
  {
   "cell_type": "code",
   "execution_count": null,
   "metadata": {},
   "outputs": [],
   "source": [
    "# type: ignore\n",
    "\n",
    "dataset = (\n",
    "    load_dataset('bond005/podlodka_speech')['test']\n",
    "    .cast_column('audio', Audio(sampling_rate=16_000))\n",
    ")\n",
    "\n",
    "gigaam_model = typing.cast(GigaAMASR, gigaam.load_model('ctc', device='cuda'))\n",
    "asr = VoskStreaming(model_name='vosk-model-ru-0.42', chunk_length_sec=0.5)\n",
    "asr.start_thread()\n",
    "\n",
    "evals: list[RecordingStreamingEvaluation] = []\n",
    "for sample in dataset:\n",
    "    try:\n",
    "        recording = Recording.from_sample(sample, use_gigaam=gigaam_model)\n",
    "    except CannotFillTimings:\n",
    "        continue\n",
    "    evals.append(default_evaluation_pipeline(\n",
    "        recording, asr, partial_alignment_interval=0.5\n",
    "    ))\n",
    "\n",
    "asr.stop_thread()"
   ]
  },
  {
   "cell_type": "code",
   "execution_count": null,
   "metadata": {},
   "outputs": [],
   "source": [
    "for i, eval in enumerate(evals):\n",
    "    alignment: MatchesList = eval.partial_alignments[-1].alignment\n",
    "    print(\n",
    "        f'sample {i},', f'total_true_len={alignment.total_true_len},', alignment.score\n",
    "    )"
   ]
  },
  {
   "cell_type": "code",
   "execution_count": null,
   "metadata": {},
   "outputs": [],
   "source": [
    "alignment.score.n_word_errors / max(1, alignment.total_true_len)"
   ]
  },
  {
   "cell_type": "code",
   "execution_count": null,
   "metadata": {},
   "outputs": [],
   "source": [
    "# type: ignore\n",
    "\n",
    "matches_list = align(\n",
    "    parse_multivariant_string('nothing'),\n",
    "    parse_multivariant_string('no thing'),\n",
    ")\n",
    "print(matches_list.matches)\n",
    "print(matches_list.score)"
   ]
  },
  {
   "cell_type": "code",
   "execution_count": null,
   "metadata": {},
   "outputs": [],
   "source": [
    "# type: ignore\n",
    "\n",
    "plt.figure(figsize=(15, 6))\n",
    "partial_alignments_plot(evals[10])\n",
    "plt.show()"
   ]
  },
  {
   "cell_type": "code",
   "execution_count": null,
   "metadata": {},
   "outputs": [],
   "source": [
    "# type: ignore\n",
    "\n",
    "plt.figure(figsize=(15, 3))\n",
    "visualize_history(eval.input_chunks, eval.output_chunks)\n",
    "plt.show()"
   ]
  },
  {
   "cell_type": "code",
   "execution_count": null,
   "metadata": {},
   "outputs": [],
   "source": [
    "# type: ignore\n",
    "\n",
    "fig, (ax1, ax2) = plt.subplots(figsize=(12, 4), ncols=2, width_ratios=[2, 1])\n",
    "streaming_error_vs_latency_histogram(evals, ax=ax1)\n",
    "latency_plot(evals, ax=ax2)\n",
    "plt.show()"
   ]
  },
  {
   "cell_type": "code",
   "execution_count": null,
   "metadata": {},
   "outputs": [],
   "source": [
    "# type: ignore\n",
    "\n",
    "plt.figure(figsize=(15, 3))\n",
    "show_last_alignments(evals)\n",
    "plt.show()"
   ]
  },
  {
   "cell_type": "code",
   "execution_count": null,
   "metadata": {},
   "outputs": [],
   "source": []
  }
 ],
 "metadata": {
  "kernelspec": {
   "display_name": "venv",
   "language": "python",
   "name": "python3"
  },
  "language_info": {
   "codemirror_mode": {
    "name": "ipython",
    "version": 3
   },
   "file_extension": ".py",
   "mimetype": "text/x-python",
   "name": "python",
   "nbconvert_exporter": "python",
   "pygments_lexer": "ipython3",
   "version": "3.12.3"
  }
 },
 "nbformat": 4,
 "nbformat_minor": 2
}
