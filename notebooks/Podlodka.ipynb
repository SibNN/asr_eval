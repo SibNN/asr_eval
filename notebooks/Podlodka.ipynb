{
 "cells": [
  {
   "cell_type": "code",
   "execution_count": 1,
   "metadata": {},
   "outputs": [
    {
     "name": "stdout",
     "output_type": "stream",
     "text": [
      "/home/oleg\n"
     ]
    }
   ],
   "source": [
    "%cd .."
   ]
  },
  {
   "cell_type": "code",
   "execution_count": 7,
   "metadata": {},
   "outputs": [],
   "source": [
    "# type: ignore\n",
    "\n",
    "import typing\n",
    "from typing import Any, cast\n",
    "\n",
    "import gigaam\n",
    "from gigaam.model import GigaAMASR\n",
    "import jiwer\n",
    "from datasets import Dataset, load_dataset, Audio\n",
    "import numpy as np\n",
    "import numpy.typing as npt\n",
    "import pandas as pd\n",
    "\n",
    "from asr_eval.streaming.sender import StreamingAudioSender\n",
    "from asr_eval.streaming.caller import transсribe_parallel\n",
    "from asr_eval.streaming.models.vosk import VoskStreaming\n",
    "from asr_eval.streaming.model import TranscriptionChunk\n",
    "from asr_eval.streaming.evaluation import get_word_timings, get_partial_alignments, remap_time\n",
    "from asr_eval.streaming.plots import partial_alignment_diagram, visualize_history"
   ]
  },
  {
   "cell_type": "code",
   "execution_count": null,
   "metadata": {},
   "outputs": [],
   "source": [
    "gigaam_model = typing.cast(GigaAMASR, gigaam.load_model('ctc', device='cuda'))"
   ]
  },
  {
   "cell_type": "code",
   "execution_count": 3,
   "metadata": {},
   "outputs": [],
   "source": [
    "# type: ignore\n",
    "\n",
    "dataset: Dataset = load_dataset('bond005/podlodka_speech')['test'].take(1)\n",
    "dataset = dataset.cast_column(\"audio\", Audio(sampling_rate=16_000))\n",
    "df = pd.DataFrame(list(dataset))\n",
    "\n",
    "def get_streaming_sender(id: str, audio: dict[str, Any]) -> dict[str, Any]:\n",
    "    return StreamingAudioSender(\n",
    "        id=id,\n",
    "        audio=np.int16(audio['array'] * 32768).tobytes(),\n",
    "        array_len_per_sec=16_000 * 2,  # x2 because of the conversion float -> bytes\n",
    "        real_time_interval_sec=1 / 5,\n",
    "        speed_multiplier=1,\n",
    "        verbose=False,\n",
    "    )\n",
    "\n",
    "df['id'] = df.audio.apply(lambda audio: audio['path'])\n",
    "df['sender'] = df.apply(lambda row: get_streaming_sender(row.id, row.audio), axis=1)"
   ]
  },
  {
   "cell_type": "code",
   "execution_count": 4,
   "metadata": {},
   "outputs": [
    {
     "name": "stderr",
     "output_type": "stream",
     "text": [
      "LOG (VoskAPI:ReadDataFiles():model.cc:213) Decoding params beam=13 max-active=7000 lattice-beam=6\n",
      "LOG (VoskAPI:ReadDataFiles():model.cc:216) Silence phones 1:2:3:4:5:6:7:8:9:10\n",
      "LOG (VoskAPI:RemoveOrphanNodes():nnet-nnet.cc:948) Removed 1 orphan nodes.\n",
      "LOG (VoskAPI:RemoveOrphanComponents():nnet-nnet.cc:847) Removing 2 orphan components.\n",
      "LOG (VoskAPI:Collapse():nnet-utils.cc:1488) Added 1 components, removed 2\n",
      "LOG (VoskAPI:ReadDataFiles():model.cc:248) Loading i-vector extractor from /home/oleg/.cache/vosk/vosk-model-ru-0.42/ivector/final.ie\n",
      "LOG (VoskAPI:ComputeDerivedVars():ivector-extractor.cc:183) Computing derived variables for iVector extractor\n",
      "LOG (VoskAPI:ComputeDerivedVars():ivector-extractor.cc:204) Done.\n",
      "LOG (VoskAPI:ReadDataFiles():model.cc:279) Loading HCLG from /home/oleg/.cache/vosk/vosk-model-ru-0.42/graph/HCLG.fst\n",
      "LOG (VoskAPI:ReadDataFiles():model.cc:297) Loading words from /home/oleg/.cache/vosk/vosk-model-ru-0.42/graph/words.txt\n",
      "LOG (VoskAPI:ReadDataFiles():model.cc:308) Loading winfo /home/oleg/.cache/vosk/vosk-model-ru-0.42/graph/phones/word_boundary.int\n",
      "LOG (VoskAPI:ReadDataFiles():model.cc:315) Loading subtract G.fst model from /home/oleg/.cache/vosk/vosk-model-ru-0.42/rescore/G.fst\n",
      "LOG (VoskAPI:ReadDataFiles():model.cc:317) Loading CARPA model from /home/oleg/.cache/vosk/vosk-model-ru-0.42/rescore/G.carpa\n",
      "LOG (VoskAPI:ReadDataFiles():model.cc:323) Loading RNNLM model from /home/oleg/.cache/vosk/vosk-model-ru-0.42/rnnlm/final.raw\n"
     ]
    },
    {
     "name": "stdout",
     "output_type": "stream",
     "text": [
      "Transcribing sound_test_0001.wav\n",
      "Transcribed sound_test_0001.wav: и поэтому использовать их в повседневности не получается мы вынуждены отступать\n"
     ]
    }
   ],
   "source": [
    "# type: ignore\n",
    "\n",
    "asr = VoskStreaming(model_name='vosk-model-ru-0.42', chunk_length_sec=1)\n",
    "asr.start_thread()\n",
    "results = transсribe_parallel(asr=asr, senders=df.sender, n_threads=1, send_all_without_delays=True)\n",
    "asr.stop_thread()"
   ]
  },
  {
   "cell_type": "code",
   "execution_count": 6,
   "metadata": {},
   "outputs": [
    {
     "data": {
      "text/plain": [
       "0.46153846153846156"
      ]
     },
     "execution_count": 6,
     "metadata": {},
     "output_type": "execute_result"
    }
   ],
   "source": [
    "# type: ignore\n",
    "\n",
    "df['preds'] = [TranscriptionChunk.join(x) for x in results.values()]\n",
    "\n",
    "jiwer.wer(reference=df['transcription'].tolist(), hypothesis=df['preds'].tolist())"
   ]
  },
  {
   "cell_type": "code",
   "execution_count": 6,
   "metadata": {},
   "outputs": [],
   "source": [
    "# TODO защита против нескольких транскрипций"
   ]
  },
  {
   "cell_type": "code",
   "execution_count": 8,
   "metadata": {},
   "outputs": [
    {
     "data": {
      "text/plain": [
       "[InputChunk(data=b'', start_time=0, end_time=0.2, put_timestamp=1750079407.424682, get_timestamp=1750079407.4250844),\n",
       " InputChunk(data=b'', start_time=0.2, end_time=0.4, put_timestamp=1750079407.4247158, get_timestamp=1750079407.4250946),\n",
       " InputChunk(data=b'', start_time=0.4, end_time=0.6000000000000001, put_timestamp=1750079407.424729, get_timestamp=1750079407.4251027),\n",
       " InputChunk(data=b'', start_time=0.6000000000000001, end_time=0.8, put_timestamp=1750079407.424743, get_timestamp=1750079407.4251347),\n",
       " InputChunk(data=b'', start_time=0.8, end_time=1.0, put_timestamp=1750079407.4247506, get_timestamp=1750079407.425148)]"
      ]
     },
     "metadata": {},
     "output_type": "display_data"
    },
    {
     "data": {
      "text/plain": [
       "[OutputChunk(data=TranscriptionChunk(uid='26b4a3bd-977e-4b8a-94a1-a6d5bc7c9bc1', text=''), seconds_processed=1.0, put_timestamp=1750079407.4935434, get_timestamp=1750079407.493685),\n",
       " OutputChunk(data=TranscriptionChunk(uid='26b4a3bd-977e-4b8a-94a1-a6d5bc7c9bc1', text=''), seconds_processed=2.0, put_timestamp=1750079407.8029711, get_timestamp=1750079407.8030882),\n",
       " OutputChunk(data=TranscriptionChunk(uid='26b4a3bd-977e-4b8a-94a1-a6d5bc7c9bc1', text='и поэтому'), seconds_processed=3.0, put_timestamp=1750079408.247131, get_timestamp=1750079408.2472699),\n",
       " OutputChunk(data=TranscriptionChunk(uid='26b4a3bd-977e-4b8a-94a1-a6d5bc7c9bc1', text='и поэтому использовать их в повседневности не'), seconds_processed=4.0, put_timestamp=1750079408.6650386, get_timestamp=1750079408.6682768),\n",
       " OutputChunk(data=TranscriptionChunk(uid='26b4a3bd-977e-4b8a-94a1-a6d5bc7c9bc1', text='и поэтому использовать их в повседневности не получается'), seconds_processed=5.0, put_timestamp=1750079408.9670699, get_timestamp=1750079408.9672425)]"
      ]
     },
     "metadata": {},
     "output_type": "display_data"
    },
    {
     "data": {
      "text/plain": [
       "[PartialAlignment(alignment=MatchesList(matches=[(и, ), (поэтому, )], total_true_len=2, score=AlignmentScore(n_word_errors=2, n_correct=0, n_char_errors=8)), audio_seconds_sent=1.0, audio_seconds_processed=1.0, real_seconds_overhead=0),\n",
       " PartialAlignment(alignment=MatchesList(matches=[(и, ), (поэтому, ), (использовать, ), (их, ), (в, )], total_true_len=5, score=AlignmentScore(n_word_errors=5, n_correct=0, n_char_errors=23)), audio_seconds_sent=2.2, audio_seconds_processed=2.0, real_seconds_overhead=0),\n",
       " PartialAlignment(alignment=MatchesList(matches=[(и, и), (поэтому, поэтому), (использовать, ), (их, ), (в, ), (повседневности, ), (не, )], total_true_len=7, score=AlignmentScore(n_word_errors=5, n_correct=2, n_char_errors=31)), audio_seconds_sent=3.4000000000000004, audio_seconds_processed=3.0, real_seconds_overhead=0),\n",
       " PartialAlignment(alignment=MatchesList(matches=[(и, и), (поэтому, поэтому), (использовать, использовать), (их, их), (в, в), (повседневности, повседневности), (не, не), (получается, ), (мы, )], total_true_len=9, score=AlignmentScore(n_word_errors=2, n_correct=7, n_char_errors=12)), audio_seconds_sent=4.4, audio_seconds_processed=4.0, real_seconds_overhead=0),\n",
       " PartialAlignment(alignment=MatchesList(matches=[(и, и), (поэтому, поэтому), (использовать, использовать), (их, их), (в, в), (повседневности, повседневности), (не, не), (получается, получается), (мы, ), (вынуждены, )], total_true_len=10, score=AlignmentScore(n_word_errors=2, n_correct=8, n_char_errors=11)), audio_seconds_sent=5.2, audio_seconds_processed=5.0, real_seconds_overhead=0)]"
      ]
     },
     "metadata": {},
     "output_type": "display_data"
    },
    {
     "data": {
      "image/png": "[encoded data removed]",
      "text/plain": [
       "<Figure size 600x600 with 1 Axes>"
      ]
     },
     "metadata": {},
     "output_type": "display_data"
    }
   ],
   "source": [
    "sample = df.iloc[0] # type: ignore\n",
    "waveform = cast(npt.NDArray[np.floating], sample['audio']['array'])\n",
    "text = cast(str, sample['transcription'])\n",
    "sender = cast(StreamingAudioSender, sample.sender) # type: ignore\n",
    "input_chunks = sender.history\n",
    "output_chunks = results[sample['id']]\n",
    "cutoffs = sender.get_send_times()\n",
    "\n",
    "word_timings = get_word_timings(gigaam_model, waveform, text)\n",
    "\n",
    "input_chunks_remapped, output_chunks_remapped = remap_time(cutoffs, input_chunks, output_chunks)\n",
    "\n",
    "partial_alignments = get_partial_alignments(input_chunks_remapped, output_chunks_remapped, word_timings, processes=1) # type: ignore\n",
    "\n",
    "# visualize_history(input_chunks, output_chunks)\n",
    "# visualize_history(input_chunks_remapped, output_chunks_remapped)\n",
    "\n",
    "display(input_chunks[:5])\n",
    "display(output_chunks[:5])\n",
    "display(partial_alignments[:5])\n",
    "\n",
    "assert input_chunks[-1].end_time is not None\n",
    "\n",
    "partial_alignment_diagram(\n",
    "    partial_alignments,\n",
    "    word_timings,\n",
    "    audio_len=input_chunks[-1].end_time,  # TODO: may be not precise\n",
    "    figsize=(6, 6),\n",
    "    y_type='processed',\n",
    ")"
   ]
  },
  {
   "cell_type": "code",
   "execution_count": 17,
   "metadata": {},
   "outputs": [],
   "source": [
    "# print('Final transcription:', TranscriptionChunk.join(output_chunks))\n",
    "\n",
    "# true_token_id_to_time_span = {\n",
    "#     token.id: (start, end) for token, start, end in word_timings\n",
    "# }\n",
    "\n",
    "# last_word_end = [\n",
    "#     max([\n",
    "#         true_token_id_to_time_span[m.true[-1].id][-1]\n",
    "#         for m in partial_al.alignment.matches\n",
    "#         if m.status not in ('deletion', 'insertion')\n",
    "#     ] or [0])\n",
    "#     for partial_al in partial_alignments\n",
    "# ]\n",
    "\n",
    "# latency_sent = [p.audio_seconds_sent - end for p, end in zip(partial_alignments, last_word_end)]\n",
    "# print(f'Average latency (sent): {np.mean(latency_sent):.1f} sec')\n",
    "\n",
    "# latency_processed = [p.audio_seconds_processed - end for p, end in zip(partial_alignments, last_word_end)] # type: ignore\n",
    "# print(f'Average latency (processed): {np.mean(latency_processed):.1f} sec') # type: ignore"
   ]
  },
  {
   "cell_type": "code",
   "execution_count": null,
   "metadata": {},
   "outputs": [],
   "source": []
  }
 ],
 "metadata": {
  "kernelspec": {
   "display_name": "venv",
   "language": "python",
   "name": "python3"
  },
  "language_info": {
   "codemirror_mode": {
    "name": "ipython",
    "version": 3
   },
   "file_extension": ".py",
   "mimetype": "text/x-python",
   "name": "python",
   "nbconvert_exporter": "python",
   "pygments_lexer": "ipython3",
   "version": "3.12.3"
  }
 },
 "nbformat": 4,
 "nbformat_minor": 2
}
