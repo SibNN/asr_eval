{
 "cells": [
  {
   "cell_type": "code",
   "execution_count": 1,
   "metadata": {},
   "outputs": [
    {
     "name": "stdout",
     "output_type": "stream",
     "text": [
      "/home/oleg\n"
     ]
    }
   ],
   "source": [
    "%cd .."
   ]
  },
  {
   "cell_type": "code",
   "execution_count": 8,
   "metadata": {},
   "outputs": [],
   "source": [
    "# type: ignore\n",
    "\n",
    "import typing\n",
    "from typing import Any, cast\n",
    "from dataclasses import dataclass\n",
    "\n",
    "import gigaam\n",
    "from gigaam.model import GigaAMASR\n",
    "import jiwer\n",
    "from datasets import Dataset, load_dataset, Audio\n",
    "import numpy as np\n",
    "import numpy.typing as npt\n",
    "import pandas as pd\n",
    "from tqdm.auto import tqdm\n",
    "\n",
    "from asr_eval.data import Recording\n",
    "from asr_eval.align.data import Token\n",
    "from asr_eval.models.gigaam import EncodeError\n",
    "from asr_eval.streaming.sender import StreamingAudioSender, BaseStreamingAudioSender\n",
    "from asr_eval.streaming.caller import receive_full_transcription\n",
    "from asr_eval.streaming.models.vosk import VoskStreaming\n",
    "from asr_eval.streaming.model import TranscriptionChunk, InputChunk, OutputChunk\n",
    "from asr_eval.streaming.evaluation import RecordingStreamingEvaluation, PartialAlignment, get_partial_alignments, remap_time\n",
    "from asr_eval.streaming.plots import partial_alignment_diagram, visualize_history\n",
    "from asr_eval.streaming.timings import get_word_timings"
   ]
  },
  {
   "cell_type": "code",
   "execution_count": 2,
   "metadata": {},
   "outputs": [
    {
     "name": "stderr",
     "output_type": "stream",
     "text": [
      "/home/oleg/asr-eval/venv/lib/python3.12/site-packages/gigaam/__init__.py:118: FutureWarning: You are using `torch.load` with `weights_only=False` (the current default value), which uses the default pickle module implicitly. It is possible to construct malicious pickle data which will execute arbitrary code during unpickling (See https://github.com/pytorch/pytorch/blob/main/SECURITY.md#untrusted-models for more details). In a future release, the default value for `weights_only` will be flipped to `True`. This limits the functions that could be executed during unpickling. Arbitrary objects will no longer be allowed to be loaded via this mode unless they are explicitly allowlisted by the user via `torch.serialization.add_safe_globals`. We recommend you start setting `weights_only=True` for any use case where you don't have full control of the loaded file. Please open an issue on GitHub for any issues related to this experimental feature.\n",
      "  checkpoint = torch.load(model_path, map_location=\"cpu\")\n"
     ]
    }
   ],
   "source": [
    "gigaam_model = typing.cast(GigaAMASR, gigaam.load_model('ctc', device='cuda'))"
   ]
  },
  {
   "cell_type": "code",
   "execution_count": 3,
   "metadata": {},
   "outputs": [
    {
     "data": {
      "application/vnd.jupyter.widget-view+json": {
       "model_id": "b8ba89a307c943d1b0760e6375f6deab",
       "version_major": 2,
       "version_minor": 0
      },
      "text/plain": [
       "  0%|          | 0/20 [00:00<?, ?it/s]"
      ]
     },
     "metadata": {},
     "output_type": "display_data"
    }
   ],
   "source": [
    "# type: ignore\n",
    "\n",
    "name, split = 'bond005/podlodka_speech', 'test'\n",
    "dataset: Dataset = (\n",
    "    load_dataset(name)[split]\n",
    "    .cast_column(\"audio\", Audio(sampling_rate=16_000))\n",
    ")\n",
    "\n",
    "samples: list[Recording] = []\n",
    "\n",
    "for i in tqdm(range(len(dataset))):\n",
    "    try:\n",
    "        samples.append(Recording.from_sample(\n",
    "            sample=dataset[i],\n",
    "            name=name,\n",
    "            split=split,\n",
    "            index=i,\n",
    "            use_gigaam=gigaam_model,\n",
    "        ))\n",
    "    except EncodeError:\n",
    "        pass"
   ]
  },
  {
   "cell_type": "code",
   "execution_count": 5,
   "metadata": {},
   "outputs": [],
   "source": [
    "for sample in samples:\n",
    "    sample.evals = RecordingStreamingEvaluation()\n",
    "    sample.evals.id = sample.hf_uid\n",
    "    sample.evals.sender = StreamingAudioSender(\n",
    "        id=sample.evals.id,\n",
    "        audio=np.int16(sample.waveform * 32768).tobytes(),\n",
    "        array_len_per_sec=16_000 * 2,  # x2 because of the conversion float -> bytes\n",
    "        real_time_interval_sec=1 / 5,\n",
    "        speed_multiplier=1,\n",
    "        verbose=False,\n",
    "    )"
   ]
  },
  {
   "cell_type": "code",
   "execution_count": 6,
   "metadata": {},
   "outputs": [
    {
     "name": "stderr",
     "output_type": "stream",
     "text": [
      "LOG (VoskAPI:ReadDataFiles():model.cc:213) Decoding params beam=13 max-active=7000 lattice-beam=6\n",
      "LOG (VoskAPI:ReadDataFiles():model.cc:216) Silence phones 1:2:3:4:5:6:7:8:9:10\n",
      "LOG (VoskAPI:RemoveOrphanNodes():nnet-nnet.cc:948) Removed 1 orphan nodes.\n",
      "LOG (VoskAPI:RemoveOrphanComponents():nnet-nnet.cc:847) Removing 2 orphan components.\n",
      "LOG (VoskAPI:Collapse():nnet-utils.cc:1488) Added 1 components, removed 2\n",
      "LOG (VoskAPI:ReadDataFiles():model.cc:248) Loading i-vector extractor from /home/oleg/.cache/vosk/vosk-model-ru-0.42/ivector/final.ie\n",
      "LOG (VoskAPI:ComputeDerivedVars():ivector-extractor.cc:183) Computing derived variables for iVector extractor\n",
      "LOG (VoskAPI:ComputeDerivedVars():ivector-extractor.cc:204) Done.\n",
      "LOG (VoskAPI:ReadDataFiles():model.cc:279) Loading HCLG from /home/oleg/.cache/vosk/vosk-model-ru-0.42/graph/HCLG.fst\n",
      "LOG (VoskAPI:ReadDataFiles():model.cc:297) Loading words from /home/oleg/.cache/vosk/vosk-model-ru-0.42/graph/words.txt\n",
      "LOG (VoskAPI:ReadDataFiles():model.cc:308) Loading winfo /home/oleg/.cache/vosk/vosk-model-ru-0.42/graph/phones/word_boundary.int\n",
      "LOG (VoskAPI:ReadDataFiles():model.cc:315) Loading subtract G.fst model from /home/oleg/.cache/vosk/vosk-model-ru-0.42/rescore/G.fst\n",
      "LOG (VoskAPI:ReadDataFiles():model.cc:317) Loading CARPA model from /home/oleg/.cache/vosk/vosk-model-ru-0.42/rescore/G.carpa\n",
      "LOG (VoskAPI:ReadDataFiles():model.cc:323) Loading RNNLM model from /home/oleg/.cache/vosk/vosk-model-ru-0.42/rnnlm/final.raw\n"
     ]
    },
    {
     "name": "stdout",
     "output_type": "stream",
     "text": [
      "Transcribing bond005/podlodka_speech/test/0\n",
      "Transcribed bond005/podlodka_speech/test/0: и поэтому использовать их в повседневности не получается мы вынуждены отступать\n",
      "Transcribing bond005/podlodka_speech/test/3\n",
      "Transcribed bond005/podlodka_speech/test/3: да это отсутствие долго живущие бранчей другими словами отсутствие какому- [...]\n",
      "Transcribing bond005/podlodka_speech/test/4\n",
      "Transcribed bond005/podlodka_speech/test/4: то есть мы в каждый момент времени знаем про звук ещё и какое-то такое [...]\n",
      "Transcribing bond005/podlodka_speech/test/5\n",
      "Transcribed bond005/podlodka_speech/test/5: и мне кажется абсолютно все замечали что детские крики раздражают там и ты [...]\n",
      "Transcribing bond005/podlodka_speech/test/6\n",
      "Transcribed bond005/podlodka_speech/test/6: неужто не может быть какое-то количество дискретных столбиков где каждый [...]\n",
      "Transcribing bond005/podlodka_speech/test/7\n",
      "Transcribed bond005/podlodka_speech/test/7: второй челлендж он чисто поисковая это собственно как делать этот поиск [...]\n",
      "Transcribing bond005/podlodka_speech/test/8\n",
      "Transcribed bond005/podlodka_speech/test/8: вот пришёл запрос мы для него нашли пул кандидатов треков кандидатов и на [...]\n",
      "Transcribing bond005/podlodka_speech/test/9\n",
      "Transcribed bond005/podlodka_speech/test/9: то в силу того что люди неспособны достать но особенно не профессионалы [...]\n",
      "Transcribing bond005/podlodka_speech/test/11\n",
      "Transcribed bond005/podlodka_speech/test/11: практически за насколько это был шит на прозвучит скорее бизнесово [...]\n",
      "Transcribing bond005/podlodka_speech/test/12\n",
      "Transcribed bond005/podlodka_speech/test/12: то как бы ну зачем мне смотреть и влоги прошлой версии системы там все [...]\n",
      "Transcribing bond005/podlodka_speech/test/13\n",
      "Transcribed bond005/podlodka_speech/test/13: про то как сейчас принято делать как раз такими распределённых каких-то [...]\n",
      "Transcribing bond005/podlodka_speech/test/14\n",
      "Transcribed bond005/podlodka_speech/test/14: построить запросы как раз вот между многими хвостами одновременно и по [...]\n",
      "Transcribing bond005/podlodka_speech/test/15\n",
      "Transcribed bond005/podlodka_speech/test/15: и вот такая архитектура долгое время доминировала её пытались [...]\n",
      "Transcribing bond005/podlodka_speech/test/16\n",
      "Transcribed bond005/podlodka_speech/test/16: краеугольным камнем любые алгоритмы машинного обучения является прежде [...]\n"
     ]
    }
   ],
   "source": [
    "# type: ignore\n",
    "\n",
    "asr = VoskStreaming(model_name='vosk-model-ru-0.42', chunk_length_sec=1)\n",
    "asr.start_thread()\n",
    "\n",
    "for sample in samples:\n",
    "    sample.evals.output_chunks = receive_full_transcription(\n",
    "        asr=asr,\n",
    "        sender=sample.evals.sender,\n",
    "        id=sample.evals.id,\n",
    "        send_all_without_delays=True,\n",
    "    )\n",
    "\n",
    "asr.stop_thread()"
   ]
  },
  {
   "cell_type": "code",
   "execution_count": 7,
   "metadata": {},
   "outputs": [],
   "source": [
    "for sample in samples:\n",
    "    assert sample.evals is not None\n",
    "    assert sample.evals.sender is not None\n",
    "    assert sample.evals.output_chunks is not None\n",
    "    sample.evals.input_chunks_remapped, sample.evals.output_chunks_remapped = remap_time(\n",
    "        sample.evals.sender.get_send_times(), sample.evals.sender.history, sample.evals.output_chunks\n",
    "    )"
   ]
  },
  {
   "cell_type": "code",
   "execution_count": 10,
   "metadata": {},
   "outputs": [
    {
     "data": {
      "application/vnd.jupyter.widget-view+json": {
       "model_id": "d5d5123fdc4b4bcf9ede0247f80f80fd",
       "version_major": 2,
       "version_minor": 0
      },
      "text/plain": [
       "  0%|          | 0/14 [00:00<?, ?it/s]"
      ]
     },
     "metadata": {},
     "output_type": "display_data"
    }
   ],
   "source": [
    "for sample in tqdm(samples):\n",
    "    assert sample.evals is not None\n",
    "    assert sample.evals.input_chunks_remapped is not None\n",
    "    assert sample.evals.output_chunks_remapped is not None\n",
    "    sample.evals.partial_alignments = get_partial_alignments(\n",
    "        sample.evals.input_chunks_remapped,\n",
    "        sample.evals.output_chunks_remapped,\n",
    "        cast(list[Token], sample.transcription_words),\n",
    "        processes=1,\n",
    "    )"
   ]
  },
  {
   "cell_type": "code",
   "execution_count": null,
   "metadata": {},
   "outputs": [],
   "source": [
    "for sample in samples:\n",
    "    assert sample.evals is not None\n",
    "    assert sample.evals.sender is not None\n",
    "    assert sample.evals.partial_alignments is not None\n",
    "    partial_alignment_diagram(\n",
    "        sample.evals.partial_alignments,\n",
    "        cast(list[Token], sample.transcription_words),\n",
    "        audio_len=cast(float, sample.evals.sender.history[-1].end_time),  # TODO: may be not precise\n",
    "        figsize=(12, 2),\n",
    "        y_type='processed',\n",
    "    )"
   ]
  },
  {
   "cell_type": "code",
   "execution_count": 38,
   "metadata": {},
   "outputs": [
    {
     "data": {
      "text/plain": [
       "{'correct': array([0.        , 0.24074074, 0.66666667, 0.74725275, 0.81065089,\n",
       "        0.79775281]),\n",
       " 'error': array([0.        , 0.18518519, 0.31372549, 0.25274725, 0.18934911,\n",
       "        0.20224719]),\n",
       " 'not_yet': array([1.        , 0.57407407, 0.01960784, 0.        , 0.        ,\n",
       "        0.        ])}"
      ]
     },
     "execution_count": 38,
     "metadata": {},
     "output_type": "execute_result"
    }
   ],
   "source": [
    "from typing import Literal\n",
    "\n",
    "from asr_eval.align.data import Match, Token\n",
    "\n",
    "stats: list[tuple[float, Literal['correct', 'error', 'not_yet']]] = []\n",
    "\n",
    "def get_center_time(token: Token):\n",
    "    return (token.start_time + token.end_time) / 2\n",
    "\n",
    "# TODO find a better way\n",
    "partial_alignments[-1].audio_seconds_processed = partial_alignments[-2].audio_seconds_processed\n",
    "\n",
    "for partial_alignment in partial_alignments:\n",
    "    # split into head and tail\n",
    "    head: list[Match] = []\n",
    "    tail: list[Match] = []\n",
    "    in_tail = True\n",
    "    for match in partial_alignment.alignment.matches[::-1]:\n",
    "        in_tail &= match.status == 'deletion'\n",
    "        if in_tail:\n",
    "            tail.insert(0, match)\n",
    "        else:\n",
    "            head.insert(0, match)\n",
    "            \n",
    "    sec_processed = cast(float, partial_alignment.audio_seconds_processed)\n",
    "    \n",
    "    # process head\n",
    "    for i, match in enumerate(head):\n",
    "        if match.status == 'correct':\n",
    "            for token in match.true:\n",
    "                stats.append((sec_processed - get_center_time(token), 'correct'))\n",
    "        elif match.status == 'insertion':\n",
    "            left_pos = max(\n",
    "                [0] + [token.end_time for match2 in head[:i] for token in match2.true]\n",
    "            )\n",
    "            right_pos = min(\n",
    "                [sec_processed] + [token.end_time for match2 in head[i + 1:] for token in match2.true]\n",
    "            )\n",
    "            stats.append((sec_processed - (left_pos + right_pos) / 2, 'error'))\n",
    "        else:\n",
    "            for token in match.true:\n",
    "                stats.append((sec_processed - get_center_time(token), 'error'))\n",
    "    \n",
    "    # process tail\n",
    "    for match in tail:\n",
    "        for token in match.true:\n",
    "            stats.append((sec_processed - get_center_time(token), 'not_yet'))\n",
    "\n",
    "\n",
    "counts: dict[Literal['correct', 'error', 'not_yet'], npt.NDArray[np.int64]] = {}\n",
    "\n",
    "bins = [0, 1, 2, 3, 5, 10, 1000]\n",
    "for status in 'correct', 'error', 'not_yet':\n",
    "    counts[status] = np.histogram([t for t, s in stats if s == status], bins=bins)[0]\n",
    "\n",
    "total_counts = sum(counts.values())\n",
    "\n",
    "ratios = {status: c / total_counts for status, c in counts.items()}\n",
    "ratios"
   ]
  },
  {
   "cell_type": "code",
   "execution_count": null,
   "metadata": {},
   "outputs": [
    {
     "data": {
      "image/png": "[encoded data removed]",
      "text/plain": [
       "<Figure size 640x480 with 1 Axes>"
      ]
     },
     "metadata": {},
     "output_type": "display_data"
    }
   ],
   "source": [
    "from itertools import pairwise\n",
    "import matplotlib.pyplot as plt\n",
    "\n",
    "xrange = range(len(bins) - 1)\n",
    "plt.bar(xrange, height=ratios['correct']) # type: ignore\n",
    "plt.bar(xrange, height=ratios['error'], bottom=ratios['correct']) # type: ignore\n",
    "plt.bar(xrange, height=ratios['not_yet'], bottom=ratios['correct'] + ratios['error']) # type: ignore\n",
    "plt.gca().set_xticks(xrange) # type: ignore\n",
    "plt.gca().set_xticklabels([f'{a}-{b}' for a, b in pairwise(bins)]) # type: ignore\n",
    "plt.show() # type: ignore"
   ]
  },
  {
   "cell_type": "code",
   "execution_count": 17,
   "metadata": {},
   "outputs": [],
   "source": [
    "# print('Final transcription:', TranscriptionChunk.join(output_chunks))\n",
    "\n",
    "# true_token_id_to_time_span = {\n",
    "#     token.id: (start, end) for token, start, end in word_timings\n",
    "# }\n",
    "\n",
    "# last_word_end = [\n",
    "#     max([\n",
    "#         true_token_id_to_time_span[m.true[-1].id][-1]\n",
    "#         for m in partial_al.alignment.matches\n",
    "#         if m.status not in ('deletion', 'insertion')\n",
    "#     ] or [0])\n",
    "#     for partial_al in partial_alignments\n",
    "# ]\n",
    "\n",
    "# latency_sent = [p.audio_seconds_sent - end for p, end in zip(partial_alignments, last_word_end)]\n",
    "# print(f'Average latency (sent): {np.mean(latency_sent):.1f} sec')\n",
    "\n",
    "# latency_processed = [p.audio_seconds_processed - end for p, end in zip(partial_alignments, last_word_end)] # type: ignore\n",
    "# print(f'Average latency (processed): {np.mean(latency_processed):.1f} sec') # type: ignore"
   ]
  },
  {
   "cell_type": "code",
   "execution_count": null,
   "metadata": {},
   "outputs": [],
   "source": []
  }
 ],
 "metadata": {
  "kernelspec": {
   "display_name": "venv",
   "language": "python",
   "name": "python3"
  },
  "language_info": {
   "codemirror_mode": {
    "name": "ipython",
    "version": 3
   },
   "file_extension": ".py",
   "mimetype": "text/x-python",
   "name": "python",
   "nbconvert_exporter": "python",
   "pygments_lexer": "ipython3",
   "version": "3.12.3"
  }
 },
 "nbformat": 4,
 "nbformat_minor": 2
}
