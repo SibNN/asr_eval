{
 "cells": [
  {
   "cell_type": "code",
   "execution_count": null,
   "metadata": {},
   "outputs": [],
   "source": [
    "# type: ignore\n",
    "\n",
    "from typing import Any\n",
    "\n",
    "from jiwer import wer\n",
    "from datasets import Dataset, load_dataset, Audio\n",
    "import numpy as np\n",
    "import pandas as pd\n",
    "\n",
    "from asr_eval.streaming.sender import StreamingAudioSender\n",
    "from asr_eval.streaming.caller import transribe_parallel\n",
    "from asr_eval.streaming.models.vosk import VoskStreaming\n",
    "from asr_eval.streaming.transcription import PartialTranscription"
   ]
  },
  {
   "cell_type": "code",
   "execution_count": 2,
   "metadata": {},
   "outputs": [],
   "source": [
    "# type: ignore\n",
    "\n",
    "dataset: Dataset = load_dataset('bond005/podlodka_speech')['test'].take(10)\n",
    "dataset = dataset.cast_column(\"audio\", Audio(sampling_rate=16_000))\n",
    "df = pd.DataFrame(list(dataset))\n",
    "\n",
    "def get_id(audio: dict[str, Any]) -> str:\n",
    "    return audio['path']\n",
    "\n",
    "def get_streaming_sender(id: str, audio: dict[str, Any]) -> dict[str, Any]:\n",
    "    assert audio['sampling_rate'] == 16_000\n",
    "    return StreamingAudioSender(\n",
    "        audio=np.int16(audio['array'] * 32768).tobytes(),\n",
    "        id=id,\n",
    "        sampling_rate=16_000,\n",
    "        real_time_interval_sec=1 / 25,\n",
    "        speed_multiplier=25,\n",
    "    )\n",
    "\n",
    "df['id'] = df.audio.apply(get_id)\n",
    "df['sender'] = df.apply(lambda row: get_streaming_sender(row.id, row.audio), axis=1)"
   ]
  },
  {
   "cell_type": "code",
   "execution_count": null,
   "metadata": {},
   "outputs": [],
   "source": [
    "# type: ignore\n",
    "\n",
    "asr = VoskStreaming(model_name='vosk-model-ru-0.42')\n",
    "asr.start_thread()\n",
    "asr.input_buffer.keep_history()\n",
    "asr.output_buffer.keep_history()\n",
    "\n",
    "results = transribe_parallel(asr=asr, senders=df.sender, n_threads=8)\n",
    "df['preds'] = [PartialTranscription.join(x) for x in results.values()]"
   ]
  },
  {
   "cell_type": "code",
   "execution_count": 4,
   "metadata": {},
   "outputs": [
    {
     "name": "stdout",
     "output_type": "stream",
     "text": [
      "0.5010845986984815\n"
     ]
    }
   ],
   "source": [
    "# type: ignore\n",
    "\n",
    "wer = wer(reference=df['transcription'].tolist(), hypothesis=df['preds'].tolist())\n",
    "print(wer)"
   ]
  },
  {
   "cell_type": "code",
   "execution_count": 9,
   "metadata": {},
   "outputs": [],
   "source": [
    "# type: ignore\n",
    "\n",
    "input_chunks = asr.input_buffer.history.copy()\n",
    "output_chunks = asr.output_buffer.history.copy()\n",
    "\n",
    "for chunk, id in input_chunks:\n",
    "    chunk.data = None"
   ]
  },
  {
   "cell_type": "code",
   "execution_count": 17,
   "metadata": {},
   "outputs": [
    {
     "data": {
      "text/plain": [
       "[(InputChunk(data=None, start_time=0.0, end_time=1.0, put_timestamp=1747772420.6469786, get_timestamp=1747772420.6480033),\n",
       "  'sound_test_0001.wav'),\n",
       " (InputChunk(data=None, start_time=0.0, end_time=1.0, put_timestamp=1747772420.647268, get_timestamp=1747772420.6689687),\n",
       "  'sound_test_0002.wav'),\n",
       " (InputChunk(data=None, start_time=0.0, end_time=1.0, put_timestamp=1747772420.6477287, get_timestamp=1747772420.6852953),\n",
       "  'sound_test_0004.wav'),\n",
       " (InputChunk(data=None, start_time=0.0, end_time=1.0, put_timestamp=1747772420.6479168, get_timestamp=1747772420.701765),\n",
       "  'sound_test_0003.wav'),\n",
       " (InputChunk(data=None, start_time=0.0, end_time=1.0, put_timestamp=1747772420.6486137, get_timestamp=1747772420.7174416),\n",
       "  'sound_test_0005.wav'),\n",
       " (InputChunk(data=None, start_time=0.0, end_time=1.0, put_timestamp=1747772420.648904, get_timestamp=1747772420.7333894),\n",
       "  'sound_test_0006.wav'),\n",
       " (InputChunk(data=None, start_time=0.0, end_time=1.0, put_timestamp=1747772420.6491137, get_timestamp=1747772420.7491663),\n",
       "  'sound_test_0007.wav'),\n",
       " (InputChunk(data=None, start_time=0.0, end_time=1.0, put_timestamp=1747772420.6493583, get_timestamp=1747772420.7649958),\n",
       "  'sound_test_0008.wav'),\n",
       " (InputChunk(data=None, start_time=1.0, end_time=2.0, put_timestamp=1747772420.687074, get_timestamp=1747772420.781073),\n",
       "  'sound_test_0001.wav'),\n",
       " (InputChunk(data=None, start_time=1.0, end_time=2.0, put_timestamp=1747772420.6874833, get_timestamp=1747772420.781518),\n",
       "  'sound_test_0002.wav')]"
      ]
     },
     "execution_count": 17,
     "metadata": {},
     "output_type": "execute_result"
    }
   ],
   "source": [
    "input_chunks[:10]"
   ]
  },
  {
   "cell_type": "code",
   "execution_count": 16,
   "metadata": {},
   "outputs": [
    {
     "data": {
      "text/plain": [
       "[(OutputChunk(data=PartialTranscription(id='__latest__', text='', final=False), put_timestamp=1747772420.6689398, get_timestamp=1747772420.6691282),\n",
       "  'sound_test_0001.wav'),\n",
       " (OutputChunk(data=PartialTranscription(id='__latest__', text='', final=False), put_timestamp=1747772420.685273, get_timestamp=1747772420.68535),\n",
       "  'sound_test_0002.wav'),\n",
       " (OutputChunk(data=PartialTranscription(id='__latest__', text='', final=False), put_timestamp=1747772420.701743, get_timestamp=1747772420.7020895),\n",
       "  'sound_test_0004.wav'),\n",
       " (OutputChunk(data=PartialTranscription(id='__latest__', text='', final=False), put_timestamp=1747772420.7174172, get_timestamp=1747772420.7178807),\n",
       "  'sound_test_0003.wav'),\n",
       " (OutputChunk(data=PartialTranscription(id='__latest__', text='', final=False), put_timestamp=1747772420.7333694, get_timestamp=1747772420.7337346),\n",
       "  'sound_test_0005.wav'),\n",
       " (OutputChunk(data=PartialTranscription(id='__latest__', text='', final=False), put_timestamp=1747772420.7491434, get_timestamp=1747772420.7494102),\n",
       "  'sound_test_0006.wav'),\n",
       " (OutputChunk(data=PartialTranscription(id='__latest__', text='', final=False), put_timestamp=1747772420.76497, get_timestamp=1747772420.765485),\n",
       "  'sound_test_0007.wav'),\n",
       " (OutputChunk(data=PartialTranscription(id='__latest__', text='', final=False), put_timestamp=1747772420.7810512, get_timestamp=1747772420.7814157),\n",
       "  'sound_test_0008.wav'),\n",
       " (OutputChunk(data=PartialTranscription(id='__latest__', text='', final=False), put_timestamp=1747772420.7815142, get_timestamp=1747772420.7816207),\n",
       "  'sound_test_0001.wav'),\n",
       " (OutputChunk(data=PartialTranscription(id='__latest__', text='', final=False), put_timestamp=1747772420.7819357, get_timestamp=1747772420.782535),\n",
       "  'sound_test_0002.wav')]"
      ]
     },
     "execution_count": 16,
     "metadata": {},
     "output_type": "execute_result"
    }
   ],
   "source": [
    "output_chunks[:10]"
   ]
  },
  {
   "cell_type": "code",
   "execution_count": null,
   "metadata": {},
   "outputs": [],
   "source": []
  }
 ],
 "metadata": {
  "kernelspec": {
   "display_name": "venv",
   "language": "python",
   "name": "python3"
  },
  "language_info": {
   "codemirror_mode": {
    "name": "ipython",
    "version": 3
   },
   "file_extension": ".py",
   "mimetype": "text/x-python",
   "name": "python",
   "nbconvert_exporter": "python",
   "pygments_lexer": "ipython3",
   "version": "3.12.3"
  }
 },
 "nbformat": 4,
 "nbformat_minor": 2
}
