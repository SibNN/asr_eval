{
 "cells": [
  {
   "cell_type": "code",
   "execution_count": 1,
   "metadata": {},
   "outputs": [
    {
     "name": "stdout",
     "output_type": "stream",
     "text": [
      "/home/oleg/asr-eval\n"
     ]
    }
   ],
   "source": [
    "%cd .."
   ]
  },
  {
   "cell_type": "code",
   "execution_count": 2,
   "metadata": {},
   "outputs": [],
   "source": [
    "# type: ignore\n",
    "\n",
    "from typing import Any\n",
    "\n",
    "from jiwer import wer\n",
    "from datasets import Dataset, load_dataset, Audio\n",
    "import numpy as np\n",
    "import pandas as pd\n",
    "\n",
    "from asr_eval.streaming.sender import StreamingAudioSender\n",
    "from asr_eval.streaming.caller import transribe_parallel\n",
    "from asr_eval.streaming.models.vosk import VoskStreaming\n",
    "from asr_eval.streaming.transcription import PartialTranscription"
   ]
  },
  {
   "cell_type": "code",
   "execution_count": 3,
   "metadata": {},
   "outputs": [],
   "source": [
    "# type: ignore\n",
    "\n",
    "dataset: Dataset = load_dataset('bond005/podlodka_speech')['test'].take(10)\n",
    "dataset = dataset.cast_column(\"audio\", Audio(sampling_rate=16_000))\n",
    "df = pd.DataFrame(list(dataset))\n",
    "\n",
    "def get_id(audio: dict[str, Any]) -> str:\n",
    "    return audio['path']\n",
    "\n",
    "def get_streaming_sender(id: str, audio: dict[str, Any]) -> dict[str, Any]:\n",
    "    assert audio['sampling_rate'] == 16_000\n",
    "    return StreamingAudioSender(\n",
    "        audio=np.int16(audio['array'] * 32768).tobytes(),\n",
    "        id=id,\n",
    "        sampling_rate=16_000,\n",
    "        real_time_interval_sec=1 / 25,\n",
    "        speed_multiplier=25,\n",
    "        track_history=True,\n",
    "    )\n",
    "\n",
    "df['id'] = df.audio.apply(get_id)\n",
    "df['sender'] = df.apply(lambda row: get_streaming_sender(row.id, row.audio), axis=1)"
   ]
  },
  {
   "cell_type": "code",
   "execution_count": 4,
   "metadata": {},
   "outputs": [
    {
     "name": "stderr",
     "output_type": "stream",
     "text": [
      "LOG (VoskAPI:ReadDataFiles():model.cc:213) Decoding params beam=13 max-active=7000 lattice-beam=6\n",
      "LOG (VoskAPI:ReadDataFiles():model.cc:216) Silence phones 1:2:3:4:5:6:7:8:9:10\n",
      "LOG (VoskAPI:RemoveOrphanNodes():nnet-nnet.cc:948) Removed 1 orphan nodes.\n",
      "LOG (VoskAPI:RemoveOrphanComponents():nnet-nnet.cc:847) Removing 2 orphan components.\n",
      "LOG (VoskAPI:Collapse():nnet-utils.cc:1488) Added 1 components, removed 2\n",
      "LOG (VoskAPI:ReadDataFiles():model.cc:248) Loading i-vector extractor from /home/oleg/.cache/vosk/vosk-model-ru-0.42/ivector/final.ie\n",
      "LOG (VoskAPI:ComputeDerivedVars():ivector-extractor.cc:183) Computing derived variables for iVector extractor\n",
      "LOG (VoskAPI:ComputeDerivedVars():ivector-extractor.cc:204) Done.\n",
      "LOG (VoskAPI:ReadDataFiles():model.cc:279) Loading HCLG from /home/oleg/.cache/vosk/vosk-model-ru-0.42/graph/HCLG.fst\n",
      "LOG (VoskAPI:ReadDataFiles():model.cc:297) Loading words from /home/oleg/.cache/vosk/vosk-model-ru-0.42/graph/words.txt\n",
      "LOG (VoskAPI:ReadDataFiles():model.cc:308) Loading winfo /home/oleg/.cache/vosk/vosk-model-ru-0.42/graph/phones/word_boundary.int\n",
      "LOG (VoskAPI:ReadDataFiles():model.cc:315) Loading subtract G.fst model from /home/oleg/.cache/vosk/vosk-model-ru-0.42/rescore/G.fst\n",
      "LOG (VoskAPI:ReadDataFiles():model.cc:317) Loading CARPA model from /home/oleg/.cache/vosk/vosk-model-ru-0.42/rescore/G.carpa\n",
      "LOG (VoskAPI:ReadDataFiles():model.cc:323) Loading RNNLM model from /home/oleg/.cache/vosk/vosk-model-ru-0.42/rnnlm/final.raw\n"
     ]
    },
    {
     "name": "stdout",
     "output_type": "stream",
     "text": [
      "Transcribing sound_test_0001.wavTranscribing sound_test_0002.wav\n",
      "\n",
      "Transcribing sound_test_0003.wav\n",
      "Transcribing sound_test_0004.wav\n",
      "Transcribing sound_test_0005.wav\n",
      "Transcribing sound_test_0006.wav\n",
      "Transcribing sound_test_0007.wav\n",
      "Transcribing sound_test_0008.wav\n",
      "Transcribed sound_test_0001.wav: и поэтому использовать их в повседневности не получается мы вынуждены отступать\n",
      "Transcribing sound_test_0009.wav\n",
      "Transcribed sound_test_0007.wav: неужто не может быть какое-то количество дискретных столбиков где каждый [...]\n",
      "Transcribing sound_test_0010.wav\n",
      "Transcribed sound_test_0002.wav: максимально ухудшить идеальную систему в воде туда какие-то элементы или [...]\n",
      "Transcribed sound_test_0006.wav: и мне кажется абсолютно все замечали что детские крики раздражают там и ты [...]\n",
      "Transcribed sound_test_0004.wav: да это отсутствие долго живущие бранчей другими словами отсутствие какому- [...]\n",
      "Transcribed sound_test_0003.wav: человек недавно ставший тимлидом и который сказал знаешь заходит в кабинет [...]\n",
      "Transcribed sound_test_0005.wav: то есть мы в каждый момент времени знаем про звук ещё и какое-то такое [...]\n",
      "Transcribed sound_test_0008.wav: второй челленджи он через поисковые это собственно как делать этот поиск [...]\n",
      "Transcribed sound_test_0009.wav: вот пришёл запрос мы для него нашли пул кандидатов треков кандидатов и на [...]\n",
      "Transcribed sound_test_0010.wav: то в силу того что люди неспособны достаточно особенно не профессионалы [...]\n"
     ]
    }
   ],
   "source": [
    "# type: ignore\n",
    "\n",
    "asr = VoskStreaming(model_name='vosk-model-ru-0.42')\n",
    "asr.start_thread()\n",
    "\n",
    "results = transribe_parallel(asr=asr, senders=df.sender, n_threads=8)"
   ]
  },
  {
   "cell_type": "code",
   "execution_count": 6,
   "metadata": {},
   "outputs": [],
   "source": [
    "df['preds'] = [PartialTranscription.join([c.data for c in x]) for x in results.values()]"
   ]
  },
  {
   "cell_type": "code",
   "execution_count": 7,
   "metadata": {},
   "outputs": [
    {
     "name": "stdout",
     "output_type": "stream",
     "text": [
      "0.5010845986984815\n"
     ]
    }
   ],
   "source": [
    "# type: ignore\n",
    "\n",
    "wer = wer(reference=df['transcription'].tolist(), hypothesis=df['preds'].tolist())\n",
    "print(wer)"
   ]
  },
  {
   "cell_type": "code",
   "execution_count": 8,
   "metadata": {},
   "outputs": [],
   "source": [
    "for sender in df.sender:\n",
    "    sender.remove_waveforms_from_history()"
   ]
  },
  {
   "cell_type": "code",
   "execution_count": 9,
   "metadata": {},
   "outputs": [
    {
     "data": {
      "text/plain": [
       "[InputChunk(data=b'', start_time=0.0, end_time=1.0, put_timestamp=1747819996.9244716, get_timestamp=1747819996.9677382),\n",
       " InputChunk(data=b'', start_time=1.0, end_time=2.0, put_timestamp=1747819996.9647076, get_timestamp=1747819997.063811),\n",
       " InputChunk(data=b'', start_time=2.0, end_time=3.0, put_timestamp=1747819997.0048919, get_timestamp=1747819997.0672882),\n",
       " InputChunk(data=b'', start_time=3.0, end_time=4.0, put_timestamp=1747819997.0451238, get_timestamp=1747819997.300374),\n",
       " InputChunk(data=b'', start_time=4.0, end_time=5.0, put_timestamp=1747819997.08531, get_timestamp=1747819998.0748181),\n",
       " InputChunk(data=b'', start_time=5.0, end_time=6.0, put_timestamp=1747819997.1255112, get_timestamp=1747819998.500396),\n",
       " InputChunk(data=b'', start_time=6.0, end_time=7.0, put_timestamp=1747819997.1657193, get_timestamp=1747819998.9501324),\n",
       " InputChunk(data=b'', start_time=7.0, end_time=8.0, put_timestamp=1747819997.2058167, get_timestamp=1747819999.4919872),\n",
       " InputChunk(data=b'', start_time=8.0, end_time=9.0, put_timestamp=1747819997.2460277, get_timestamp=1747820000.0554802),\n",
       " InputChunk(data=b'', start_time=9.0, end_time=10.0, put_timestamp=1747819997.2862737, get_timestamp=1747820000.5039525),\n",
       " InputChunk(data=b'', start_time=10.0, end_time=11.0, put_timestamp=1747819997.326483, get_timestamp=1747820000.942326),\n",
       " InputChunk(data=b'', start_time=11.0, end_time=12.0, put_timestamp=1747819997.3666444, get_timestamp=1747820001.3965702),\n",
       " InputChunk(data=b'', start_time=12.0, end_time=13.0, put_timestamp=1747819997.4067395, get_timestamp=1747820001.815216),\n",
       " InputChunk(data=b'', start_time=13.0, end_time=14.0, put_timestamp=1747819997.4469378, get_timestamp=1747820002.2390718),\n",
       " InputChunk(data=b'', start_time=14.0, end_time=15.0, put_timestamp=1747819997.4871411, get_timestamp=1747820002.68281),\n",
       " InputChunk(data=b'', start_time=15.0, end_time=16.0, put_timestamp=1747819997.527342, get_timestamp=1747820003.086329),\n",
       " InputChunk(data=b'', start_time=16.0, end_time=17.0, put_timestamp=1747819997.5675387, get_timestamp=1747820004.836904)]"
      ]
     },
     "execution_count": 9,
     "metadata": {},
     "output_type": "execute_result"
    }
   ],
   "source": [
    "df.sender.iloc[0].history"
   ]
  },
  {
   "cell_type": "code",
   "execution_count": 10,
   "metadata": {},
   "outputs": [
    {
     "data": {
      "text/plain": [
       "[OutputChunk(data=PartialTranscription(id='__latest__', text='', final=False), put_timestamp=1747819996.983468, get_timestamp=1747819996.9836197),\n",
       " OutputChunk(data=PartialTranscription(id='__latest__', text='', final=False), put_timestamp=1747819997.064245, get_timestamp=1747819997.064325),\n",
       " OutputChunk(data=PartialTranscription(id='__latest__', text='', final=False), put_timestamp=1747819997.0677187, get_timestamp=1747819997.0677469),\n",
       " OutputChunk(data=PartialTranscription(id='__latest__', text='', final=False), put_timestamp=1747819997.412227, get_timestamp=1747819997.4124024),\n",
       " OutputChunk(data=PartialTranscription(id='__latest__', text='и поэтому', final=False), put_timestamp=1747819998.1340957, get_timestamp=1747819998.1342552),\n",
       " OutputChunk(data=PartialTranscription(id='__latest__', text='и поэтому', final=False), put_timestamp=1747819998.5535474, get_timestamp=1747819998.5536666),\n",
       " OutputChunk(data=PartialTranscription(id='__latest__', text='и поэтому использовать их в', final=False), put_timestamp=1747819999.0035133, get_timestamp=1747819999.0036795),\n",
       " OutputChunk(data=PartialTranscription(id='__latest__', text='и поэтому использовать их в повседневности не', final=False), put_timestamp=1747819999.5663285, get_timestamp=1747819999.5665867),\n",
       " OutputChunk(data=PartialTranscription(id='__latest__', text='и поэтому использовать их в повседневности не получается', final=False), put_timestamp=1747820000.1012332, get_timestamp=1747820000.1013641),\n",
       " OutputChunk(data=PartialTranscription(id='__latest__', text='и поэтому использовать их в повседневности не получается', final=False), put_timestamp=1747820000.5547576, get_timestamp=1747820000.5549066),\n",
       " OutputChunk(data=PartialTranscription(id='__latest__', text='и поэтому использовать их в повседневности не получается мы', final=False), put_timestamp=1747820000.9932885, get_timestamp=1747820000.9936533),\n",
       " OutputChunk(data=PartialTranscription(id='__latest__', text='и поэтому использовать их в повседневности не получается мы', final=False), put_timestamp=1747820001.44343, get_timestamp=1747820001.4435534),\n",
       " OutputChunk(data=PartialTranscription(id='__latest__', text='и поэтому использовать их в повседневности не получается мы вынуждены', final=False), put_timestamp=1747820001.864631, get_timestamp=1747820001.8647616),\n",
       " OutputChunk(data=PartialTranscription(id='__latest__', text='и поэтому использовать их в повседневности не получается мы вынуждены', final=False), put_timestamp=1747820002.2879777, get_timestamp=1747820002.2881038),\n",
       " OutputChunk(data=PartialTranscription(id='__latest__', text='и поэтому использовать их в повседневности не получается мы вынуждены', final=False), put_timestamp=1747820002.7276263, get_timestamp=1747820002.727908),\n",
       " OutputChunk(data=PartialTranscription(id='__latest__', text='и поэтому использовать их в повседневности не получается мы вынуждены отступать', final=False), put_timestamp=1747820003.1388724, get_timestamp=1747820003.1394138),\n",
       " OutputChunk(data=PartialTranscription(id='__latest__', text='и поэтому использовать их в повседневности не получается мы вынуждены отступать', final=False), put_timestamp=1747820004.862668, get_timestamp=1747820004.863091)]"
      ]
     },
     "execution_count": 10,
     "metadata": {},
     "output_type": "execute_result"
    }
   ],
   "source": [
    "results['sound_test_0001.wav']"
   ]
  },
  {
   "cell_type": "code",
   "execution_count": null,
   "metadata": {},
   "outputs": [],
   "source": []
  },
  {
   "cell_type": "code",
   "execution_count": null,
   "metadata": {},
   "outputs": [],
   "source": []
  }
 ],
 "metadata": {
  "kernelspec": {
   "display_name": "venv",
   "language": "python",
   "name": "python3"
  },
  "language_info": {
   "codemirror_mode": {
    "name": "ipython",
    "version": 3
   },
   "file_extension": ".py",
   "mimetype": "text/x-python",
   "name": "python",
   "nbconvert_exporter": "python",
   "pygments_lexer": "ipython3",
   "version": "3.12.3"
  }
 },
 "nbformat": 4,
 "nbformat_minor": 2
}
