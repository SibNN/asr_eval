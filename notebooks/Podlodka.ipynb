{
 "cells": [
  {
   "cell_type": "code",
   "execution_count": 1,
   "metadata": {},
   "outputs": [
    {
     "name": "stdout",
     "output_type": "stream",
     "text": [
      "/home/oleg/asr-eval\n"
     ]
    }
   ],
   "source": [
    "%cd .."
   ]
  },
  {
   "cell_type": "code",
   "execution_count": 3,
   "metadata": {},
   "outputs": [],
   "source": [
    "# type: ignore\n",
    "\n",
    "from typing import Any\n",
    "\n",
    "from jiwer import wer\n",
    "from datasets import Dataset, load_dataset, Audio\n",
    "import numpy as np\n",
    "import pandas as pd\n",
    "\n",
    "from asr_eval.streaming.sender import StreamingAudioSender\n",
    "from asr_eval.streaming.caller import transribe_parallel\n",
    "from asr_eval.streaming.models.vosk import VoskStreaming\n",
    "from asr_eval.streaming.model import PartialTranscription"
   ]
  },
  {
   "cell_type": "code",
   "execution_count": 4,
   "metadata": {},
   "outputs": [],
   "source": [
    "# type: ignore\n",
    "\n",
    "dataset: Dataset = load_dataset('bond005/podlodka_speech')['test'].take(10)\n",
    "dataset = dataset.cast_column(\"audio\", Audio(sampling_rate=16_000))\n",
    "df = pd.DataFrame(list(dataset))\n",
    "\n",
    "def get_id(audio: dict[str, Any]) -> str:\n",
    "    return audio['path']\n",
    "\n",
    "def get_streaming_sender(id: str, audio: dict[str, Any]) -> dict[str, Any]:\n",
    "    assert audio['sampling_rate'] == 16_000\n",
    "    return StreamingAudioSender(\n",
    "        audio=np.int16(audio['array'] * 32768).tobytes(),\n",
    "        id=id,\n",
    "        sampling_rate=16_000,\n",
    "        real_time_interval_sec=1 / 25,\n",
    "        speed_multiplier=25,\n",
    "        track_history=True,\n",
    "    )\n",
    "\n",
    "df['id'] = df.audio.apply(get_id)\n",
    "df['sender'] = df.apply(lambda row: get_streaming_sender(row.id, row.audio), axis=1)"
   ]
  },
  {
   "cell_type": "code",
   "execution_count": 5,
   "metadata": {},
   "outputs": [
    {
     "name": "stderr",
     "output_type": "stream",
     "text": [
      "LOG (VoskAPI:ReadDataFiles():model.cc:213) Decoding params beam=13 max-active=7000 lattice-beam=6\n",
      "LOG (VoskAPI:ReadDataFiles():model.cc:216) Silence phones 1:2:3:4:5:6:7:8:9:10\n",
      "LOG (VoskAPI:RemoveOrphanNodes():nnet-nnet.cc:948) Removed 1 orphan nodes.\n",
      "LOG (VoskAPI:RemoveOrphanComponents():nnet-nnet.cc:847) Removing 2 orphan components.\n",
      "LOG (VoskAPI:Collapse():nnet-utils.cc:1488) Added 1 components, removed 2\n",
      "LOG (VoskAPI:ReadDataFiles():model.cc:248) Loading i-vector extractor from /home/oleg/.cache/vosk/vosk-model-ru-0.42/ivector/final.ie\n",
      "LOG (VoskAPI:ComputeDerivedVars():ivector-extractor.cc:183) Computing derived variables for iVector extractor\n",
      "LOG (VoskAPI:ComputeDerivedVars():ivector-extractor.cc:204) Done.\n",
      "LOG (VoskAPI:ReadDataFiles():model.cc:279) Loading HCLG from /home/oleg/.cache/vosk/vosk-model-ru-0.42/graph/HCLG.fst\n",
      "LOG (VoskAPI:ReadDataFiles():model.cc:297) Loading words from /home/oleg/.cache/vosk/vosk-model-ru-0.42/graph/words.txt\n",
      "LOG (VoskAPI:ReadDataFiles():model.cc:308) Loading winfo /home/oleg/.cache/vosk/vosk-model-ru-0.42/graph/phones/word_boundary.int\n",
      "LOG (VoskAPI:ReadDataFiles():model.cc:315) Loading subtract G.fst model from /home/oleg/.cache/vosk/vosk-model-ru-0.42/rescore/G.fst\n",
      "LOG (VoskAPI:ReadDataFiles():model.cc:317) Loading CARPA model from /home/oleg/.cache/vosk/vosk-model-ru-0.42/rescore/G.carpa\n",
      "LOG (VoskAPI:ReadDataFiles():model.cc:323) Loading RNNLM model from /home/oleg/.cache/vosk/vosk-model-ru-0.42/rnnlm/final.raw\n"
     ]
    },
    {
     "name": "stdout",
     "output_type": "stream",
     "text": [
      "Transcribing sound_test_0001.wav\n",
      "Transcribing sound_test_0002.wav\n",
      "Transcribing sound_test_0003.wav\n",
      "Transcribing sound_test_0004.wav\n",
      "Transcribing sound_test_0005.wav\n",
      "Transcribing sound_test_0006.wav\n",
      "Transcribing sound_test_0007.wav\n",
      "Transcribing sound_test_0008.wav\n",
      "Transcribed sound_test_0001.wav: и поэтому использовать их в повседневности не получается мы вынуждены отступать\n",
      "Transcribing sound_test_0009.wav\n",
      "Transcribed sound_test_0007.wav: неужто не может быть какое-то количество дискретных столбиков где каждый [...]\n",
      "Transcribing sound_test_0010.wav\n",
      "Transcribed sound_test_0002.wav: максимально ухудшить идеальную систему в воде туда какие-то элементы или [...]\n",
      "Transcribed sound_test_0006.wav: и мне кажется абсолютно все замечали что детские крики раздражают там и ты [...]\n",
      "Transcribed sound_test_0004.wav: да это отсутствие долго живущие бранчей другими словами отсутствие какому- [...]\n",
      "Transcribed sound_test_0003.wav: человек недавно ставший тимлидом и который сказал знаешь заходит в кабинет [...]\n",
      "Transcribed sound_test_0005.wav: то есть мы в каждый момент времени знаем про звук ещё и какое-то такое [...]\n",
      "Transcribed sound_test_0008.wav: второй челленджи он через поисковые это собственно как делать этот поиск [...]\n",
      "Transcribed sound_test_0009.wav: вот пришёл запрос мы для него нашли пул кандидатов треков кандидатов и на [...]\n",
      "Transcribed sound_test_0010.wav: то в силу того что люди неспособны достаточно особенно не профессионалы [...]\n"
     ]
    }
   ],
   "source": [
    "# type: ignore\n",
    "\n",
    "asr = VoskStreaming(model_name='vosk-model-ru-0.42')\n",
    "asr.start_thread()\n",
    "\n",
    "results = transribe_parallel(asr=asr, senders=df.sender, n_threads=8)"
   ]
  },
  {
   "cell_type": "code",
   "execution_count": 6,
   "metadata": {},
   "outputs": [],
   "source": [
    "df['preds'] = [PartialTranscription.join(x) for x in results.values()]"
   ]
  },
  {
   "cell_type": "code",
   "execution_count": 7,
   "metadata": {},
   "outputs": [
    {
     "name": "stdout",
     "output_type": "stream",
     "text": [
      "0.5010845986984815\n"
     ]
    }
   ],
   "source": [
    "# type: ignore\n",
    "\n",
    "wer = wer(reference=df['transcription'].tolist(), hypothesis=df['preds'].tolist())\n",
    "print(wer)"
   ]
  },
  {
   "cell_type": "code",
   "execution_count": 8,
   "metadata": {},
   "outputs": [],
   "source": [
    "for sender in df.sender:\n",
    "    sender.remove_waveforms_from_history()"
   ]
  },
  {
   "cell_type": "code",
   "execution_count": 9,
   "metadata": {},
   "outputs": [
    {
     "data": {
      "text/plain": [
       "[InputChunk(data=b'', start_time=0.0, end_time=1.0, put_timestamp=1747820900.9349077, get_timestamp=1747820900.9356358),\n",
       " InputChunk(data=b'', start_time=1.0, end_time=2.0, put_timestamp=1747820900.9751303, get_timestamp=1747820901.0716043),\n",
       " InputChunk(data=b'', start_time=2.0, end_time=3.0, put_timestamp=1747820901.015362, get_timestamp=1747820901.0751026),\n",
       " InputChunk(data=b'', start_time=3.0, end_time=4.0, put_timestamp=1747820901.0555985, get_timestamp=1747820901.0786216),\n",
       " InputChunk(data=b'', start_time=4.0, end_time=5.0, put_timestamp=1747820901.0957313, get_timestamp=1747820901.9957561),\n",
       " InputChunk(data=b'', start_time=5.0, end_time=6.0, put_timestamp=1747820901.1359332, get_timestamp=1747820902.4124331),\n",
       " InputChunk(data=b'', start_time=6.0, end_time=7.0, put_timestamp=1747820901.176144, get_timestamp=1747820902.847347),\n",
       " InputChunk(data=b'', start_time=7.0, end_time=8.0, put_timestamp=1747820901.2163422, get_timestamp=1747820903.3151884),\n",
       " InputChunk(data=b'', start_time=8.0, end_time=9.0, put_timestamp=1747820901.256545, get_timestamp=1747820903.9639091),\n",
       " InputChunk(data=b'', start_time=9.0, end_time=10.0, put_timestamp=1747820901.296744, get_timestamp=1747820904.3979354),\n",
       " InputChunk(data=b'', start_time=10.0, end_time=11.0, put_timestamp=1747820901.3369422, get_timestamp=1747820904.8064816),\n",
       " InputChunk(data=b'', start_time=11.0, end_time=12.0, put_timestamp=1747820901.377139, get_timestamp=1747820905.2854836),\n",
       " InputChunk(data=b'', start_time=12.0, end_time=13.0, put_timestamp=1747820901.4173515, get_timestamp=1747820905.710928),\n",
       " InputChunk(data=b'', start_time=13.0, end_time=14.0, put_timestamp=1747820901.4575615, get_timestamp=1747820906.1410003),\n",
       " InputChunk(data=b'', start_time=14.0, end_time=15.0, put_timestamp=1747820901.4977725, get_timestamp=1747820906.5838661),\n",
       " InputChunk(data=b'', start_time=15.0, end_time=16.0, put_timestamp=1747820901.5379574, get_timestamp=1747820906.9963236),\n",
       " InputChunk(data=b'', start_time=16.0, end_time=17.0, put_timestamp=1747820901.5781436, get_timestamp=1747820907.420172)]"
      ]
     },
     "execution_count": 9,
     "metadata": {},
     "output_type": "execute_result"
    }
   ],
   "source": [
    "df.sender.iloc[0].history"
   ]
  },
  {
   "cell_type": "code",
   "execution_count": 10,
   "metadata": {},
   "outputs": [
    {
     "data": {
      "text/plain": [
       "[OutputChunk(data=PartialTranscription(id='__latest__', text='', final=False), put_timestamp=1747820900.960514, get_timestamp=1747820900.9606042),\n",
       " OutputChunk(data=PartialTranscription(id='__latest__', text='', final=False), put_timestamp=1747820901.0720465, get_timestamp=1747820901.0724173),\n",
       " OutputChunk(data=PartialTranscription(id='__latest__', text='', final=False), put_timestamp=1747820901.0755286, get_timestamp=1747820901.0755775),\n",
       " OutputChunk(data=PartialTranscription(id='__latest__', text='', final=False), put_timestamp=1747820901.190621, get_timestamp=1747820901.190871),\n",
       " OutputChunk(data=PartialTranscription(id='__latest__', text='и поэтому', final=False), put_timestamp=1747820902.05459, get_timestamp=1747820902.0547245),\n",
       " OutputChunk(data=PartialTranscription(id='__latest__', text='и поэтому', final=False), put_timestamp=1747820902.4655032, get_timestamp=1747820902.465892),\n",
       " OutputChunk(data=PartialTranscription(id='__latest__', text='и поэтому использовать их в', final=False), put_timestamp=1747820902.8998754, get_timestamp=1747820902.900022),\n",
       " OutputChunk(data=PartialTranscription(id='__latest__', text='и поэтому использовать их в повседневности не', final=False), put_timestamp=1747820903.3936934, get_timestamp=1747820903.394175),\n",
       " OutputChunk(data=PartialTranscription(id='__latest__', text='и поэтому использовать их в повседневности не получается', final=False), put_timestamp=1747820904.008619, get_timestamp=1747820904.0089412),\n",
       " OutputChunk(data=PartialTranscription(id='__latest__', text='и поэтому использовать их в повседневности не получается', final=False), put_timestamp=1747820904.4487178, get_timestamp=1747820904.4488432),\n",
       " OutputChunk(data=PartialTranscription(id='__latest__', text='и поэтому использовать их в повседневности не получается мы', final=False), put_timestamp=1747820904.855634, get_timestamp=1747820904.8560102),\n",
       " OutputChunk(data=PartialTranscription(id='__latest__', text='и поэтому использовать их в повседневности не получается мы', final=False), put_timestamp=1747820905.3315954, get_timestamp=1747820905.331739),\n",
       " OutputChunk(data=PartialTranscription(id='__latest__', text='и поэтому использовать их в повседневности не получается мы вынуждены', final=False), put_timestamp=1747820905.758982, get_timestamp=1747820905.759188),\n",
       " OutputChunk(data=PartialTranscription(id='__latest__', text='и поэтому использовать их в повседневности не получается мы вынуждены', final=False), put_timestamp=1747820906.1880078, get_timestamp=1747820906.1882148),\n",
       " OutputChunk(data=PartialTranscription(id='__latest__', text='и поэтому использовать их в повседневности не получается мы вынуждены', final=False), put_timestamp=1747820906.6290696, get_timestamp=1747820906.6294212),\n",
       " OutputChunk(data=PartialTranscription(id='__latest__', text='и поэтому использовать их в повседневности не получается мы вынуждены отступать', final=False), put_timestamp=1747820907.0493727, get_timestamp=1747820907.049558),\n",
       " OutputChunk(data=PartialTranscription(id='__latest__', text='и поэтому использовать их в повседневности не получается мы вынуждены отступать', final=False), put_timestamp=1747820907.4477375, get_timestamp=1747820907.44791)]"
      ]
     },
     "execution_count": 10,
     "metadata": {},
     "output_type": "execute_result"
    }
   ],
   "source": [
    "results['sound_test_0001.wav']"
   ]
  },
  {
   "cell_type": "code",
   "execution_count": null,
   "metadata": {},
   "outputs": [],
   "source": []
  },
  {
   "cell_type": "code",
   "execution_count": null,
   "metadata": {},
   "outputs": [],
   "source": []
  }
 ],
 "metadata": {
  "kernelspec": {
   "display_name": "venv",
   "language": "python",
   "name": "python3"
  },
  "language_info": {
   "codemirror_mode": {
    "name": "ipython",
    "version": 3
   },
   "file_extension": ".py",
   "mimetype": "text/x-python",
   "name": "python",
   "nbconvert_exporter": "python",
   "pygments_lexer": "ipython3",
   "version": "3.12.3"
  }
 },
 "nbformat": 4,
 "nbformat_minor": 2
}
