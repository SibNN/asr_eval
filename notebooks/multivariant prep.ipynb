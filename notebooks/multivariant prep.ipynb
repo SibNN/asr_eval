{
 "cells": [
  {
   "cell_type": "code",
   "execution_count": 13,
   "metadata": {},
   "outputs": [],
   "source": [
    "from pathlib import Path\n",
    "import re\n",
    "\n",
    "import srt\n",
    "from datasets import load_from_disk, Dataset, Audio\n",
    "from tqdm.auto import tqdm\n",
    "\n",
    "from asr_eval.align.parsing import parse_multivariant_string, split_text_into_tokens\n",
    "from asr_eval.align.data import MultiVariant\n",
    "from asr_eval.align.recursive import align"
   ]
  },
  {
   "cell_type": "code",
   "execution_count": 8,
   "metadata": {},
   "outputs": [
    {
     "data": {
      "application/vnd.jupyter.widget-view+json": {
       "model_id": "27a1797ec46c4f31883c1d5764b53bd7",
       "version_major": 2,
       "version_minor": 0
      },
      "text/plain": [
       "  0%|          | 0/200 [00:00<?, ?it/s]"
      ]
     },
     "metadata": {},
     "output_type": "display_data"
    },
    {
     "data": {
      "application/vnd.jupyter.widget-view+json": {
       "model_id": "25e7abecd3654afe8fcf23d8cc2db042",
       "version_major": 2,
       "version_minor": 0
      },
      "text/plain": [
       "  0%|          | 0/200 [00:00<?, ?it/s]"
      ]
     },
     "metadata": {},
     "output_type": "display_data"
    }
   ],
   "source": [
    "# type: ignore\n",
    "\n",
    "dataset = list(tqdm(\n",
    "    load_from_disk('tmp/multivariate/multivariant_v1_200')\n",
    "    .with_format(\"np\")\n",
    "))\n",
    "    \n",
    "def reformat_multivariant(text: str) -> str:\n",
    "    text = text.replace('{?}', '<*>')\n",
    "    text = text.replace('MULTI', '<*>')\n",
    "    text = text.replace('}{', '} {')\n",
    "    text = text.replace('}- ', '} - ')\n",
    "    text = re.sub(r'\\}-(?=[\\w\\{])', '} - ', text)\n",
    "    text = re.sub(r'(?<=[\\w\\}])-\\{', ' - {', text)\n",
    "    text = text.replace('\\u200b', '')\n",
    "    text = text.replace('\\xa0', '')\n",
    "    text = text.replace('е{', 'е {')\n",
    "    text = text.replace('ничего X{24', 'ничего {24')\n",
    "    text = text.replace('{Э+}х', '{Эx|Ээx|Эээх}')\n",
    "    text = text.replace('О{у+}', '{Оу|Ооу|Оооу|Оуу|Оууу}')\n",
    "    text = text.replace('Э{м+}', '{Эм|Эмм|Эммм}')\n",
    "    for x in '.,!?:ЯФ\"':\n",
    "        text = text.replace('}' + x, '} ' + x)\n",
    "    for x in '\"ь':\n",
    "        text = text.replace(x + '{', x + ' {')\n",
    "    blocks = parse_multivariant_string(text)  # check that we can parse without errors\n",
    "    \n",
    "    for block in blocks[::-1]:\n",
    "        if isinstance(block, MultiVariant):\n",
    "            options = text[block.pos[0] + 1:block.pos[1] - 1]\n",
    "            options = re.split(r'\\s*\\|\\s*', options)\n",
    "            base = options[0].lower().replace('ё', 'е')\n",
    "            if all(o.lower().replace('ё', 'е') == base for o in options[1:]):\n",
    "                best_option = sorted(options, key=lambda x: 'ё' in x.lower())[-1]\n",
    "                text = text[:block.pos[0]] + best_option + text[block.pos[1]:]\n",
    "    \n",
    "    # print(text)\n",
    "    \n",
    "    return text\n",
    "\n",
    "for sample in tqdm(dataset):\n",
    "    sample['audio']['sampling_rate'] = int(sample['audio']['sr'])\n",
    "    \n",
    "    assert 'ru000' in sample['path_audio']\n",
    "    sample['origin_subset'] = 'ru000'\n",
    "    sample['origin_id'] = sample['id']\n",
    "    sample['origin_start_time'] = float(sample['audio']['start_fr'])\n",
    "    sample['origin_end_time'] = float(sample['audio']['end_fr'])\n",
    "    \n",
    "    sample['transcription_segments'] = [\n",
    "        dict(\n",
    "            start_time=subtitle.start.total_seconds(),\n",
    "            end_time=subtitle.end.total_seconds(),\n",
    "            text=reformat_multivariant(subtitle.content),\n",
    "        )\n",
    "        for subtitle in srt.parse(sample['trans'])\n",
    "    ]\n",
    "    \n",
    "    sample['transcription'] = ' '.join(p['text'] for p in sample['transcription_segments'])\n",
    "    \n",
    "    del sample['id']\n",
    "    del sample['audio']['sr']\n",
    "    del sample['audio']['start_fr']\n",
    "    del sample['audio']['end_fr']\n",
    "    del sample['path_audio']\n",
    "    del sample['path_srt']\n",
    "    del sample['trans']"
   ]
  },
  {
   "cell_type": "code",
   "execution_count": 10,
   "metadata": {},
   "outputs": [
    {
     "data": {
      "application/vnd.jupyter.widget-view+json": {
       "model_id": "691a1c32d8504ac9af9d65545f6c8d12",
       "version_major": 2,
       "version_minor": 0
      },
      "text/plain": [
       "Saving the dataset (0/5 shards):   0%|          | 0/200 [00:00<?, ? examples/s]"
      ]
     },
     "metadata": {},
     "output_type": "display_data"
    }
   ],
   "source": [
    "Dataset.from_list(dataset).save_to_disk('tmp/updated/multivariant_v1_200')"
   ]
  },
  {
   "cell_type": "code",
   "execution_count": 9,
   "metadata": {},
   "outputs": [],
   "source": [
    "############################"
   ]
  },
  {
   "cell_type": "code",
   "execution_count": 4,
   "metadata": {},
   "outputs": [
    {
     "data": {
      "text/plain": [
       "Dataset({\n",
       "    features: ['audio', 'duration', 'origin_subset', 'origin_id', 'origin_start_time', 'origin_end_time', 'transcription_segments', 'transcription'],\n",
       "    num_rows: 200\n",
       "})"
      ]
     },
     "execution_count": 4,
     "metadata": {},
     "output_type": "execute_result"
    }
   ],
   "source": [
    "# очень долго выполняется - почему?\n",
    "\n",
    "dataset = (\n",
    "    load_from_disk('tmp/updated/multivariant_v1_200')\n",
    "    # .with_format(\"np\")\n",
    "    .cast_column('audio', Audio(sampling_rate=16000))\n",
    ")\n",
    "dataset"
   ]
  },
  {
   "cell_type": "code",
   "execution_count": 5,
   "metadata": {},
   "outputs": [
    {
     "data": {
      "application/vnd.jupyter.widget-view+json": {
       "model_id": "976196944f534dbeb2003515dc65f593",
       "version_major": 2,
       "version_minor": 0
      },
      "text/plain": [
       "Saving the dataset (0/3 shards):   0%|          | 0/200 [00:00<?, ? examples/s]"
      ]
     },
     "metadata": {},
     "output_type": "display_data"
    }
   ],
   "source": [
    "dataset.save_to_disk('tmp/updated/multivariant_v1_200_16k')"
   ]
  },
  {
   "cell_type": "code",
   "execution_count": null,
   "metadata": {},
   "outputs": [],
   "source": [
    "dataset = load_from_disk('tmp/updated/multivariant_v1_200_16k')"
   ]
  },
  {
   "cell_type": "code",
   "execution_count": 15,
   "metadata": {},
   "outputs": [],
   "source": [
    "sample = dataset[0]"
   ]
  },
  {
   "cell_type": "code",
   "execution_count": null,
   "metadata": {},
   "outputs": [
    {
     "name": "stderr",
     "output_type": "stream",
     "text": [
      "Device set to use cuda:0\n",
      "Device set to use cuda:0\n",
      "/home/oleg/asr-eval/venv/lib/python3.12/site-packages/transformers/models/whisper/generation_whisper.py:573: FutureWarning: The input name `inputs` is deprecated. Please make sure to use `input_features` instead.\n",
      "  warnings.warn(\n"
     ]
    }
   ],
   "source": [
    "from pisets import Pisets\n",
    "\n",
    "pisets = Pisets(recognizer='openai/whisper-small')\n",
    "pisets_segments = pisets(sample['audio']['array'])\n",
    "pisets_prediction = ' '.join(segment.text for segment in pisets_segments)"
   ]
  },
  {
   "cell_type": "code",
   "execution_count": null,
   "metadata": {},
   "outputs": [
    {
     "data": {
      "text/plain": [
       "'Всем привет, с вами Виктория, и сегодня готовим заварное тесто для эклеров. В сотейнике соединяем {125 | сто двадцать пять} {мл | миллилитров} молока, {125 | сто двадцать пять} {мл | миллилитров} воды, {1 | одну} столовую ложку сахара и {1 | одну} чайную ложку соли. Добавляем {100 | сто} грамм сливочного масла и ставим на небольшой огонь, доводим до закипания и до растворения сливочного масла. Убираем с огня и добавляем сразу всю муку, {150 | сто пятьдесят} грамм. Тщательно перемешиваем, чтобы не осталось никаких комочков. И снова возвращаем ковшик на огонь. Уменьшаем огонь до минимального, регулярно помешиваем и завариваем тесто. У меня на это обычно уходит {3 | три} - {4 | четыре} минуты. Тесто должно собраться в общий комок. Заварную массу перекладываем сразу в отдельную ёмкость , чтобы процесс варки прекратился и тесто немного остыло. И в другую емкость выбиваем {3 | три} яйца. Яйца взбалтываем венчиком либо вилкой и постепенно в несколько раз добавляем яичную массу и перемешиваем. Когда вмешалась {одна | 1} часть яиц, добавляем следующую часть яиц и продолжаем перемешивать. Заранее нельзя сказать сколько понадобится яиц для приготовления этого теста. Оно может в себя вобрать как {3 | три} яйца, так {4 | четыре} , так и {5 | пять} . Поэтому ориентируйтесь на консистенцию. В этот раз у меня ушло ровно {4 | четыре} яйца. Консистенция теста должна быть не слишком густая и не слишком жидкая, а вот такая тягучая. Обратите внимание, готовое тесто перекладываем в кондитерский мешок с насадкой. Духовку ставим разогреваться на {200 | двести} градусов, подготавливаем противень либо силиконовый коврик, застилаем их пергаментной бумагой, и отсаживаем эклеры. Длина эклеров варьирует примерно от {10 | десяти} до {12 | двенадцати} {см | сантиметров} . Смачиваем палец в воде и немного прижимаем образовавшиеся хвостики, чтобы получилось красивее.'"
      ]
     },
     "execution_count": 16,
     "metadata": {},
     "output_type": "execute_result"
    }
   ],
   "source": []
  },
  {
   "cell_type": "code",
   "execution_count": 18,
   "metadata": {},
   "outputs": [
    {
     "data": {
      "text/plain": [
       "MatchesList(matches=[Match(Token(всем), Token(всем)), Match(Token(привет), Token(привет)), Match(Token(с), Token(с)), Match(Token(вами), Token(вами)), Match(Token(виктория), Token(виктория)), Match(Token(и), ), Match(Token(сегодня), Token(сегодня)), Match(Token(готовим), Token(готовим)), Match(, Token(в)), Match(Token(заварное), Token(зверное)), Match(Token(тесто), Token(тесто)), Match(Token(для), Token(для)), Match(Token(эклеров), Token(эклеров)), Match(Token(в), ), Match(Token(сотейнике), Token(сотенники)), Match(Token(соединяем), Token(соединяем)), Match(Token(125), Token(125)), Match(Token(миллилитров), Token(миллилитров)), Match(Token(молока), Token(молока)), Match(Token(125), Token(125)), Match(Token(миллилитров), Token(миллилитров)), Match(Token(воды), Token(воды)), Match(Token(1), Token(1)), Match(Token(столовую), Token(столовую)), Match(Token(ложку), Token(ложку)), Match(Token(сахара), Token(сахара)), Match(Token(и), Token(и)), Match(Token(1), Token(1)), Match(Token(чайную), Token(чайную)), Match(Token(ложку), Token(ложку)), Match(Token(соли), Token(соли)), Match(Token(добавляем), Token(добавляем)), Match(Token(100), Token(100)), Match(Token(грамм), Token(г)), Match(Token(сливочного), Token(сливочного)), Match(Token(масла), Token(масла)), Match(Token(и), Token(и)), Match(Token(ставим), Token(ставим)), Match(Token(на), Token(на)), Match(Token(небольшой), Token(небольшой)), Match(Token(огонь), Token(огонь)), Match(Token(доводим), Token(доводим)), Match(Token(до), Token(до)), Match(Token(закипания), Token(закипания)), Match(Token(и), Token(и)), Match(Token(до), Token(до)), Match(Token(растворения), Token(растворения)), Match(Token(сливочного), Token(сливочного)), Match(Token(масла), Token(масла)), Match(Token(убираем), Token(убираем)), Match(Token(с), Token(с)), Match(Token(огня), Token(огня)), Match(Token(и), Token(и)), Match(Token(добавляем), Token(добавляем)), Match(Token(сразу), Token(сразу)), Match(Token(всю), Token(всю)), Match(Token(муку), Token(муку)), Match(Token(150), Token(150)), Match(Token(грамм), Token(г)), Match(Token(тщательно), Token(тщательно)), Match(Token(перемешиваем), Token(перемешиваем)), Match(Token(чтобы), Token(чтобы)), Match(Token(не), Token(не)), Match(Token(осталось), Token(осталось)), Match(Token(никаких), Token(никаких)), Match(Token(комочков), Token(комочков)), Match(Token(и), Token(и)), Match(Token(снова), Token(снова)), Match(Token(возвращаем), Token(возвращаем)), Match(Token(ковшик), Token(ковшик)), Match(Token(на), Token(на)), Match(Token(огонь), Token(огонь)), Match(Token(уменьшаем), Token(уменьшаем)), Match(Token(огонь), Token(огонь)), Match(Token(до), Token(до)), Match(Token(минимального), Token(минимального)), Match(Token(регулярно), Token(регулярно)), Match(Token(помешиваем), Token(помешиваем)), Match(Token(и), Token(и)), Match(Token(завариваем), Token(завариваем)), Match(Token(тесто), Token(тесто)), Match(Token(у), Token(у)), Match(Token(меня), Token(меня)), Match(Token(на), Token(на)), Match(Token(это), Token(это)), Match(Token(обычно), Token(обычно)), Match(Token(уходит), Token(уходит)), Match(Token(3), Token(3)), Match(Token(4), Token(4)), Match(Token(минуты), Token(минуты)), Match(Token(тесто), Token(тесто)), Match(Token(должно), Token(должно)), Match(Token(собраться), Token(собраться)), Match(Token(в), Token(в)), Match(Token(общий), Token(общий)), Match(Token(комок), Token(комок)), Match(Token(заварную), Token(заворную)), Match(Token(массу), Token(массу)), Match(Token(перекладываем), Token(перекладываем)), Match(Token(сразу), Token(сразу)), Match(Token(в), Token(в)), Match(Token(отдельную), Token(отдельную)), Match(Token(емкость), Token(емкость)), Match(Token(чтобы), Token(чтобы)), Match(Token(процесс), Token(процесс)), Match(Token(варки), Token(варки)), Match(Token(прекратился), Token(прекратился)), Match(Token(и), Token(и)), Match(Token(тесто), Token(тесто)), Match(Token(немного), Token(немного)), Match(Token(остыло), Token(остыло)), Match(Token(и), Token(и)), Match(Token(в), Token(в)), Match(Token(другую), Token(другую)), Match(Token(емкость), Token(емкость)), Match(Token(выбиваем), Token(выбиваем)), Match(Token(три), Token(три)), Match(Token(яйца), Token(яйца)), Match(Token(яйца), Token(яйца)), Match(Token(взбалтываем), Token(взбалтоваем)), Match(Token(венчиком), Token(венчиком)), Match(Token(либо), Token(либо)), Match(Token(вилкой), Token(вилкой)), Match(Token(и), Token(и)), Match(Token(постепенно), Token(постепенно)), Match(Token(в), Token(в)), Match(Token(несколько), Token(несколько)), Match(Token(раз), Token(раз)), Match(Token(добавляем), Token(добавляем)), Match(Token(яичную), Token(яичную)), Match(Token(массу), Token(массу)), Match(Token(и), Token(и)), Match(Token(перемешиваем), Token(перемешиваем)), Match(Token(когда), Token(тогда)), Match(Token(вмешалась), Token(вмешалась)), Match(Token(одна), Token(одна)), Match(Token(часть), Token(часть)), Match(Token(яиц), Token(яиц)), Match(Token(добавляем), Token(добавляем)), Match(Token(следующую), Token(следующую)), Match(Token(часть), Token(часть)), Match(Token(яиц), Token(яиц)), Match(Token(и), Token(и)), Match(Token(продолжаем), Token(продолжаем)), Match(Token(перемешивать), Token(перемешивать)), Match(Token(заранее), Token(заранее)), Match(Token(нельзя), Token(нельзя)), Match(Token(сказать), Token(сказать)), Match(Token(сколько), Token(сколько)), Match(Token(понадобится), Token(понадобится)), Match(Token(яиц), Token(яиц)), Match(Token(для), Token(для)), Match(Token(приготовления), Token(приготовления)), Match(Token(этого), Token(этого)), Match(Token(теста), Token(теста)), Match(Token(оно), Token(оно)), Match(Token(может), Token(может)), Match(Token(в), Token(в)), Match(Token(себя), Token(себя)), Match(Token(вобрать), Token(вобрать)), Match(Token(как), Token(как)), Match(Token(три), Token(три)), Match(Token(яйца), Token(яйца)), Match(Token(так), Token(так)), Match(Token(четыре), Token(четыре)), Match(Token(так), Token(так)), Match(Token(и), Token(и)), Match(Token(пять), Token(пять)), Match(Token(поэтому), Token(поэтому)), Match(Token(ориентируйтесь), Token(ориентируйтесь)), Match(Token(на), Token(на)), Match(Token(консистенцию), Token(консистенцию)), Match(Token(в), Token(в)), Match(Token(этот), Token(этот)), Match(Token(раз), Token(раз)), Match(Token(у), Token(у)), Match(Token(меня), Token(меня)), Match(Token(ушло), Token(ушло)), Match(Token(ровно), Token(ровно)), Match(Token(4), Token(4)), Match(Token(яйца), Token(яйца)), Match(Token(консистенция), Token(консистенция)), Match(Token(теста), Token(тесто)), Match(Token(должна), Token(должна)), Match(Token(быть), Token(быть)), Match(Token(не), Token(не)), Match(Token(слишком), Token(слишком)), Match(Token(густая), Token(густая)), Match(Token(и), Token(и)), Match(Token(не), Token(не)), Match(Token(слишком), Token(слишком)), Match(Token(жидкая), Token(жидкая)), Match(Token(а), Token(а)), Match(Token(вот), Token(вот)), Match(Token(такая), Token(такая)), Match(Token(тягучая), Token(тягучая)), Match(Token(обратите), Token(обратите)), Match(Token(внимание), Token(внимание)), Match(Token(готовое), Token(готовое)), Match(Token(тесто), Token(тесто)), Match(Token(перекладываем), Token(перекладываем)), Match(Token(в), Token(в)), Match(Token(кондитерский), Token(кондитерский)), Match(Token(мешок), Token(мешок)), Match(Token(с), Token(с)), Match(Token(насадкой), Token(насадкой)), Match(Token(духовку), Token(духовку)), Match(Token(ставим), Token(ставим)), Match(Token(разогреваться), Token(разогреваться)), Match(Token(на), Token(на)), Match(Token(200), Token(200)), Match(Token(градусов), Token(градусов)), Match(Token(подготавливаем), Token(подготавливаем)), Match(Token(противень), Token(протвень)), Match(Token(либо), Token(либо)), Match(Token(силиконовый), Token(силиконовый)), Match(Token(коврик), Token(коврик)), Match(Token(застилаем), Token(застилаем)), Match(Token(их), Token(их)), Match(Token(пергаментной), Token(пергаментной)), Match(Token(бумагой), Token(бумагой)), Match(Token(и), Token(и)), Match(Token(отсаживаем), Token(отсаживаем)), Match(Token(эклеры), Token(иклеры)), Match(Token(длина), Token(глинная)), Match(Token(эклеров), Token(клеера)), Match(Token(варьирует), Token(форирует)), Match(Token(примерно), Token(примерно)), Match(Token(от), Token(от)), Match(Token(10), Token(10)), Match(Token(до), Token(до)), Match(Token(12), Token(12)), Match(Token(сантиметров), Token(сантиметров)), Match(Token(смачиваем), Token(смачиваем)), Match(Token(палец), Token(палец)), Match(Token(в), Token(в)), Match(Token(воде), Token(воде)), Match(Token(и), Token(и)), Match(Token(немного), Token(немного)), Match(Token(прижимаем), Token(прижимаем)), Match(Token(образовавшиеся), Token(образовавшиеся)), Match(Token(хвостики), Token(хвостики)), Match(Token(чтобы), Token(чтобы)), Match(Token(получилось), Token(получилось)), Match(Token(красивее), Token(красивее))], total_true_len=244, score=AlignmentScore(n_word_errors=16, n_correct=229, n_char_errors=31))"
      ]
     },
     "execution_count": 18,
     "metadata": {},
     "output_type": "execute_result"
    }
   ],
   "source": [
    "alignment = align(\n",
    "    parse_multivariant_string(sample['transcription']),\n",
    "    split_text_into_tokens(pisets_prediction)\n",
    ")\n",
    "alignment"
   ]
  },
  {
   "cell_type": "code",
   "execution_count": 19,
   "metadata": {},
   "outputs": [
    {
     "data": {
      "text/plain": [
       "16"
      ]
     },
     "execution_count": 19,
     "metadata": {},
     "output_type": "execute_result"
    }
   ],
   "source": [
    "alignment.score.n_word_errors"
   ]
  },
  {
   "cell_type": "code",
   "execution_count": null,
   "metadata": {},
   "outputs": [],
   "source": []
  }
 ],
 "metadata": {
  "kernelspec": {
   "display_name": "venv",
   "language": "python",
   "name": "python3"
  },
  "language_info": {
   "codemirror_mode": {
    "name": "ipython",
    "version": 3
   },
   "file_extension": ".py",
   "mimetype": "text/x-python",
   "name": "python",
   "nbconvert_exporter": "python",
   "pygments_lexer": "ipython3",
   "version": "3.12.3"
  }
 },
 "nbformat": 4,
 "nbformat_minor": 2
}
