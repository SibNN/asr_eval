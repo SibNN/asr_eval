{
 "cells": [
  {
   "cell_type": "code",
   "execution_count": 1,
   "metadata": {},
   "outputs": [],
   "source": [
    "from typing import TypedDict\n",
    "import numpy as np\n",
    "import pytest\n",
    "\n",
    "from asr_eval.streaming.caller import receive_full_transcription\n",
    "from asr_eval.streaming.model import DummyASR, Signal\n",
    "from asr_eval.streaming.sender import StreamingAudioSender"
   ]
  },
  {
   "cell_type": "code",
   "execution_count": 2,
   "metadata": {},
   "outputs": [
    {
     "name": "stdout",
     "output_type": "stream",
     "text": [
      "PUT: id=0, finish=False\n",
      "PUT: id=1, finish=False\n",
      "PUT: id=0, finish=False\n",
      "PUT: id=1, finish=False\n",
      "PUT: id=0, finish=False\n",
      "PUT: id=1, finish=False\n",
      "PUT: id=1, finish=False\n",
      "PUT: id=0, finish=False\n",
      "PUT: id=1, finish=False\n",
      "PUT: id=0, finish=False\n",
      "PUT: id=0, finish=True\n",
      "Transcribed 0: 0 1 2 3 4\n",
      "PUT: id=1, finish=False\n",
      "PUT: id=1, finish=False\n",
      "PUT: id=1, finish=False\n",
      "PUT: id=1, finish=False\n",
      "PUT: id=1, finish=False\n",
      "PUT: id=1, finish=False\n",
      "PUT: id=1, finish=False\n",
      "PUT: id=1, finish=False\n",
      "PUT: id=1, finish=True\n",
      "Transcribed 1: 0 1 2 3 4 5 6 7 8 9\n"
     ]
    }
   ],
   "source": [
    "asr = DummyASR()\n",
    "asr.start_thread()\n",
    "\n",
    "class Sample(TypedDict):\n",
    "    input: StreamingAudioSender\n",
    "    output: list[str]\n",
    "\n",
    "samples: list[Sample] = [\n",
    "    {\n",
    "        'input': StreamingAudioSender(id=0, audio=np.zeros(16_000 * 5), speed_multiplier=27),\n",
    "        'output': [str(x) for x in range(5)]\n",
    "    },\n",
    "    {\n",
    "        'input': StreamingAudioSender(id=1, audio=np.zeros(16_000 * 10), speed_multiplier=20),\n",
    "        'output': [str(x) for x in range(10)]\n",
    "    },\n",
    "]\n",
    "\n",
    "for sample in samples:\n",
    "    sample['input'].start_sending(send_to=asr.input_buffer)\n",
    "\n",
    "for sample in samples:\n",
    "    chunks = receive_full_transcription(asr=asr, id=sample['input'].id)\n",
    "    assert [x.data.text for x in chunks if x.data is not Signal.FINISH] == sample['output']\n",
    "\n",
    "for sample in samples:\n",
    "    sample['input'].join()\n",
    "asr.stop_thread()"
   ]
  },
  {
   "cell_type": "code",
   "execution_count": null,
   "metadata": {},
   "outputs": [],
   "source": []
  }
 ],
 "metadata": {
  "kernelspec": {
   "display_name": "venv",
   "language": "python",
   "name": "python3"
  },
  "language_info": {
   "codemirror_mode": {
    "name": "ipython",
    "version": 3
   },
   "file_extension": ".py",
   "mimetype": "text/x-python",
   "name": "python",
   "nbconvert_exporter": "python",
   "pygments_lexer": "ipython3",
   "version": "3.12.3"
  }
 },
 "nbformat": 4,
 "nbformat_minor": 2
}
