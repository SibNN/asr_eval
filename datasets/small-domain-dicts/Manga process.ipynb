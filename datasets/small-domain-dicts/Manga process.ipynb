{
 "cells": [
  {
   "cell_type": "code",
   "execution_count": null,
   "id": "44224059",
   "metadata": {},
   "outputs": [],
   "source": [
    "import re\n",
    "from pathlib import Path\n",
    "from typing import cast"
   ]
  },
  {
   "cell_type": "code",
   "execution_count": null,
   "id": "b4697eff",
   "metadata": {},
   "outputs": [],
   "source": []
  },
  {
   "cell_type": "code",
   "execution_count": null,
   "id": "475d3a22",
   "metadata": {},
   "outputs": [],
   "source": [
    "text = Path('datasets/small-domain-dicts/manga/texts.txt').read_text()\n",
    "blocks = re.split(r'\\n\\n---\\s*\\n\\n', text, flags=re.DOTALL)\n",
    "blocks = [\n",
    "    b.strip()\n",
    "    .replace('\\n', ' ')\n",
    "    .replace('### ', '')\n",
    "    .replace('**', '')\n",
    "    .replace('— ', '')\n",
    "    .replace('»', '')\n",
    "    .replace('«', '')\n",
    "    .replace('«', '')\n",
    "    .replace('\"', '')\n",
    "    .replace('~', '')\n",
    "    for b in blocks\n",
    "]\n",
    "blocks = [re.sub(r'\\s+\\n', '\\n', b) for b in blocks]\n",
    "blocks = [re.sub(r'[0-9]+\\. ', '', b) for b in blocks]\n",
    "\n",
    "for i, block in enumerate(blocks):\n",
    "    while (match := re.search(r'\\*([^\\*]+)\\*', block)) is not None:\n",
    "        group = cast(str, match.groups(1)[0])\n",
    "        block = block[:match.start()] + group.capitalize() + '.' + block[match.end():]\n",
    "        blocks[i] = block\n",
    "\n",
    "blocks = [re.sub(r'\\s+', ' ', b) for b in blocks]\n",
    "\n",
    "for block in blocks:\n",
    "    print(block)\n",
    "    \n",
    "# + вручную удалить фразы с цифрами"
   ]
  },
  {
   "cell_type": "code",
   "execution_count": null,
   "id": "b9d7dae7",
   "metadata": {},
   "outputs": [],
   "source": []
  }
 ],
 "metadata": {
  "kernelspec": {
   "display_name": "venv",
   "language": "python",
   "name": "python3"
  },
  "language_info": {
   "codemirror_mode": {
    "name": "ipython",
    "version": 3
   },
   "file_extension": ".py",
   "mimetype": "text/x-python",
   "name": "python",
   "nbconvert_exporter": "python",
   "pygments_lexer": "ipython3",
   "version": "3.12.3"
  }
 },
 "nbformat": 4,
 "nbformat_minor": 5
}
